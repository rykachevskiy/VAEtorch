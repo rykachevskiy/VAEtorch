{
 "cells": [
  {
   "cell_type": "code",
   "execution_count": 1,
   "metadata": {},
   "outputs": [],
   "source": [
    "from __future__ import print_function\n",
    "import argparse\n",
    "import torch\n",
    "import torch.utils.data\n",
    "from torch import nn, optim\n",
    "from torch.nn import functional as F\n",
    "from torchvision import datasets, transforms\n",
    "from torchvision.utils import save_image\n",
    "\n",
    "from torch.utils.data import DataLoader, Dataset\n",
    "\n",
    "import numpy as np"
   ]
  },
  {
   "cell_type": "code",
   "execution_count": 37,
   "metadata": {},
   "outputs": [],
   "source": [
    "import matplotlib.pyplot as plt"
   ]
  },
  {
   "cell_type": "code",
   "execution_count": 2,
   "metadata": {},
   "outputs": [
    {
     "name": "stdout",
     "output_type": "stream",
     "text": [
      "(42000, 785)\n"
     ]
    },
    {
     "data": {
      "text/plain": [
       "<__main__.MnistDataset at 0x7f0708a08a58>"
      ]
     },
     "execution_count": 2,
     "metadata": {},
     "output_type": "execute_result"
    }
   ],
   "source": [
    "import pandas as pd\n",
    "\n",
    "class MnistDataset(torch.utils.data.Dataset):\n",
    "\n",
    "    def __init__(self, file, transform=None):\n",
    "        \"\"\"\n",
    "        Args:\n",
    "            csv_file (string): Path to the csv file with annotations.\n",
    "            root_dir (string): Directory with all the images.\n",
    "            transform (callable, optional): Optional transform to be applied\n",
    "                on a sample.\n",
    "        \"\"\"\n",
    "        data = pd.read_csv(file)\n",
    "        print(data.shape)\n",
    "        self.x = data[data.columns[1:]].values.view(-1, 28,28) / 255\n",
    "        self.y = data[data.columns[0]].values\n",
    "        del data\n",
    "        self.transform = transform\n",
    "\n",
    "    def __len__(self):\n",
    "        return self.y.shape[0]\n",
    "\n",
    "    def __getitem__(self, idx):\n",
    "        return self.x[idx].reshape(1,28,28).astype(np.float32), self.y[idx]\n",
    "\n",
    "mnist_dataset = MnistDataset(\"../../239_all/239/6.Intro_to_NN/data/train.csv\")\n",
    "\n",
    "mnist_dataset"
   ]
  },
  {
   "cell_type": "code",
   "execution_count": 3,
   "metadata": {},
   "outputs": [],
   "source": [
    "dataloader = DataLoader(mnist_dataset, batch_size=4,\n",
    "                        shuffle=True, num_workers=4)"
   ]
  },
  {
   "cell_type": "code",
   "execution_count": 27,
   "metadata": {},
   "outputs": [],
   "source": [
    "class readymadeVAE(nn.Module):\n",
    "    def __init__(self):\n",
    "        super(readymadeVAE, self).__init__()\n",
    "\n",
    "        self.fc1 = nn.Linear(784, 400)\n",
    "        self.fc21 = nn.Linear(400, 10)\n",
    "        self.fc22 = nn.Linear(400, 10)\n",
    "        self.fc3 = nn.Linear(10, 400)\n",
    "        self.fc4 = nn.Linear(400, 784)\n",
    "\n",
    "    def encode(self, x):\n",
    "        h1 = F.relu(self.fc1(x))\n",
    "        return self.fc21(h1), self.fc22(h1)\n",
    "\n",
    "    def reparameterize(self, mu, logvar):\n",
    "        std = torch.exp(0.5*logvar)\n",
    "        eps = torch.randn_like(std)\n",
    "        return eps.mul(std).add_(mu)\n",
    "\n",
    "    def decode(self, z):\n",
    "        h3 = F.relu(self.fc3(z))\n",
    "        return torch.sigmoid(self.fc4(h3))\n",
    "\n",
    "    def forward(self, x):\n",
    "        mu, logvar = self.encode(x.view(-1, 784))\n",
    "        z = self.reparameterize(mu, logvar)\n",
    "        return self.decode(z), mu, logvar\n",
    "\n",
    "\n"
   ]
  },
  {
   "cell_type": "code",
   "execution_count": 28,
   "metadata": {},
   "outputs": [],
   "source": [
    "import sys\n",
    "sys.path.append(\"./models/encoder\")\n",
    "\n",
    "from models.models import *"
   ]
  },
  {
   "cell_type": "code",
   "execution_count": 29,
   "metadata": {},
   "outputs": [],
   "source": [
    "model = VAE([322], [322])\n",
    "optimizer = optim.Adam(model.parameters(), lr=1e-3)\n",
    "\n",
    "r_model = readymadeVAE()\n",
    "r_optimizer = optim.Adam(r_model.parameters(), lr=1e-3)"
   ]
  },
  {
   "cell_type": "code",
   "execution_count": 30,
   "metadata": {},
   "outputs": [
    {
     "data": {
      "text/plain": [
       "torch.Size([4, 1, 28, 28])"
      ]
     },
     "execution_count": 30,
     "metadata": {},
     "output_type": "execute_result"
    }
   ],
   "source": [
    "data.shape"
   ]
  },
  {
   "cell_type": "code",
   "execution_count": 32,
   "metadata": {},
   "outputs": [
    {
     "data": {
      "text/plain": [
       "(tensor([[0.4565, 0.5269, 0.4947,  ..., 0.4720, 0.5941, 0.4858],\n",
       "         [0.4319, 0.5516, 0.4399,  ..., 0.5008, 0.4966, 0.5328],\n",
       "         [0.5095, 0.4770, 0.3752,  ..., 0.4886, 0.6522, 0.4138],\n",
       "         [0.4981, 0.5265, 0.4496,  ..., 0.4268, 0.5477, 0.5737]],\n",
       "        grad_fn=<SigmoidBackward>),\n",
       " tensor([[ 0.0523,  0.0963, -0.1258,  0.1204, -0.0472,  0.1281,  0.0230,  0.1104,\n",
       "          -0.1819, -0.0618],\n",
       "         [-0.0204,  0.0783, -0.1201,  0.0427, -0.1156,  0.2701,  0.0294,  0.2823,\n",
       "          -0.1711, -0.1099],\n",
       "         [ 0.0273,  0.0319, -0.0960,  0.0877, -0.0300,  0.1297,  0.0942,  0.0984,\n",
       "          -0.0943, -0.1065],\n",
       "         [-0.0149, -0.0522, -0.1054,  0.0166, -0.0424,  0.1471,  0.0923,  0.1523,\n",
       "          -0.1665, -0.1135]], grad_fn=<ThAddmmBackward>),\n",
       " tensor([[-0.1003, -0.0254,  0.0532,  0.1187,  0.0890, -0.0329,  0.1429, -0.0515,\n",
       "           0.0292,  0.0931],\n",
       "         [ 0.0047, -0.0218,  0.2612,  0.1665, -0.1220, -0.0344,  0.1753, -0.0816,\n",
       "           0.1018,  0.1001],\n",
       "         [ 0.0060,  0.0589,  0.0469, -0.0408,  0.0049, -0.0731,  0.0804,  0.1073,\n",
       "           0.0109, -0.1241],\n",
       "         [ 0.0226,  0.0536,  0.0832, -0.0090,  0.0540,  0.0267,  0.0560,  0.1015,\n",
       "          -0.1006, -0.0291]], grad_fn=<ThAddmmBackward>))"
      ]
     },
     "execution_count": 32,
     "metadata": {},
     "output_type": "execute_result"
    }
   ],
   "source": [
    "model(data.view(-1, 784))"
   ]
  },
  {
   "cell_type": "code",
   "execution_count": 24,
   "metadata": {},
   "outputs": [
    {
     "data": {
      "text/plain": [
       "(tensor([[0.4893, 0.4223, 0.4840,  ..., 0.5303, 0.5503, 0.5290],\n",
       "         [0.5316, 0.4284, 0.5506,  ..., 0.5401, 0.4504, 0.5455],\n",
       "         [0.4494, 0.4522, 0.4068,  ..., 0.5271, 0.4361, 0.5828],\n",
       "         [0.5606, 0.4432, 0.5079,  ..., 0.6242, 0.4571, 0.6160]],\n",
       "        grad_fn=<SigmoidBackward>),\n",
       " tensor([[ 0.1287,  0.0771, -0.0390,  0.0187, -0.0038, -0.0049,  0.0612, -0.0530,\n",
       "           0.0396,  0.1416],\n",
       "         [ 0.0854,  0.0871,  0.0792,  0.0239, -0.0575,  0.0082,  0.1015,  0.1042,\n",
       "           0.1251,  0.0799],\n",
       "         [-0.0209,  0.0221, -0.0213, -0.0351, -0.0681, -0.0401,  0.0341, -0.0330,\n",
       "           0.0153,  0.0219],\n",
       "         [ 0.0224,  0.0140,  0.0526, -0.0210, -0.0275,  0.0064,  0.0350,  0.0170,\n",
       "          -0.0295,  0.0472]], grad_fn=<ThAddmmBackward>),\n",
       " tensor([[ 0.1313,  0.0806, -0.1507, -0.0675,  0.0720,  0.0539,  0.0268, -0.0721,\n",
       "           0.0158, -0.1204],\n",
       "         [ 0.0593,  0.1292, -0.0468, -0.0725,  0.2111,  0.0588, -0.0295, -0.0054,\n",
       "          -0.0487, -0.2285],\n",
       "         [ 0.0984,  0.0543, -0.0541,  0.0424, -0.0380,  0.0497, -0.0220, -0.0797,\n",
       "           0.0125, -0.0349],\n",
       "         [ 0.0614,  0.0486, -0.0639,  0.0626, -0.0114,  0.0297, -0.0040, -0.0372,\n",
       "          -0.0685,  0.0425]], grad_fn=<ThAddmmBackward>))"
      ]
     },
     "execution_count": 24,
     "metadata": {},
     "output_type": "execute_result"
    }
   ],
   "source": [
    "r_model(data)"
   ]
  },
  {
   "cell_type": "code",
   "execution_count": null,
   "metadata": {},
   "outputs": [],
   "source": []
  },
  {
   "cell_type": "code",
   "execution_count": 8,
   "metadata": {},
   "outputs": [
    {
     "name": "stdout",
     "output_type": "stream",
     "text": [
      "torch.Size([400, 784]) True\n",
      "torch.Size([400]) True\n",
      "torch.Size([10, 400]) True\n",
      "torch.Size([10]) True\n",
      "torch.Size([10, 400]) True\n",
      "torch.Size([10]) True\n",
      "torch.Size([400, 10]) True\n",
      "torch.Size([400]) True\n",
      "torch.Size([784, 400]) True\n",
      "torch.Size([784]) True\n"
     ]
    }
   ],
   "source": [
    "for p in model.parameters():\n",
    "    print(p.shape, p.requires_grad)"
   ]
  },
  {
   "cell_type": "code",
   "execution_count": null,
   "metadata": {},
   "outputs": [],
   "source": []
  },
  {
   "cell_type": "code",
   "execution_count": null,
   "metadata": {},
   "outputs": [],
   "source": [
    "torch.Size([400, 784]) True\n",
    "torch.Size([400]) True\n",
    "torch.Size([10, 400]) True\n",
    "torch.Size([10]) True\n",
    "torch.Size([10, 400]) True\n",
    "torch.Size([10]) True\n",
    "torch.Size([400, 10]) True\n",
    "torch.Size([400]) True\n",
    "torch.Size([784, 400]) True\n",
    "torch.Size([784]) True\n"
   ]
  },
  {
   "cell_type": "code",
   "execution_count": 34,
   "metadata": {},
   "outputs": [],
   "source": [
    "# Reconstruction + KL divergence losses summed over all elements and batch\n",
    "def loss_function(recon_x, x, mu, logvar):\n",
    "    BCE = F.binary_cross_entropy(recon_x, x.view(-1, 784), reduction='sum')\n",
    "\n",
    "    # see Appendix B from VAE paper:\n",
    "    # Kingma and Welling. Auto-Encoding Variational Bayes. ICLR, 2014\n",
    "    # https://arxiv.org/abs/1312.6114\n",
    "    # 0.5 * sum(1 + log(sigma^2) - mu^2 - sigma^2)\n",
    "    KLD = -0.5 * torch.sum(1 + logvar - mu.pow(2) - logvar.exp())\n",
    "\n",
    "    return BCE + KLD"
   ]
  },
  {
   "cell_type": "code",
   "execution_count": 35,
   "metadata": {},
   "outputs": [
    {
     "name": "stdout",
     "output_type": "stream",
     "text": [
      "Train Epoch: 1 [0/42000 (0%)]\tLoss: 550.065125\n",
      "Train Epoch: 1 [400/42000 (1%)]\tLoss: 184.998627\n",
      "Train Epoch: 1 [800/42000 (2%)]\tLoss: 175.157623\n",
      "Train Epoch: 1 [1200/42000 (3%)]\tLoss: 151.511917\n",
      "Train Epoch: 1 [1600/42000 (4%)]\tLoss: 130.894669\n",
      "Train Epoch: 1 [2000/42000 (5%)]\tLoss: 210.291748\n",
      "Train Epoch: 1 [2400/42000 (6%)]\tLoss: 146.772766\n",
      "Train Epoch: 1 [2800/42000 (7%)]\tLoss: 144.213715\n",
      "Train Epoch: 1 [3200/42000 (8%)]\tLoss: 126.045113\n",
      "Train Epoch: 1 [3600/42000 (9%)]\tLoss: 135.661346\n",
      "Train Epoch: 1 [4000/42000 (10%)]\tLoss: 154.822189\n",
      "Train Epoch: 1 [4400/42000 (10%)]\tLoss: 141.933975\n",
      "Train Epoch: 1 [4800/42000 (11%)]\tLoss: 162.077301\n",
      "Train Epoch: 1 [5200/42000 (12%)]\tLoss: 98.855286\n",
      "Train Epoch: 1 [5600/42000 (13%)]\tLoss: 147.887039\n",
      "Train Epoch: 1 [6000/42000 (14%)]\tLoss: 141.169830\n",
      "Train Epoch: 1 [6400/42000 (15%)]\tLoss: 151.641953\n",
      "Train Epoch: 1 [6800/42000 (16%)]\tLoss: 113.113228\n",
      "Train Epoch: 1 [7200/42000 (17%)]\tLoss: 152.813004\n",
      "Train Epoch: 1 [7600/42000 (18%)]\tLoss: 131.998566\n",
      "Train Epoch: 1 [8000/42000 (19%)]\tLoss: 133.188446\n",
      "Train Epoch: 1 [8400/42000 (20%)]\tLoss: 141.694351\n",
      "Train Epoch: 1 [8800/42000 (21%)]\tLoss: 145.577393\n",
      "Train Epoch: 1 [9200/42000 (22%)]\tLoss: 140.418488\n",
      "Train Epoch: 1 [9600/42000 (23%)]\tLoss: 147.653168\n",
      "Train Epoch: 1 [10000/42000 (24%)]\tLoss: 120.830734\n",
      "Train Epoch: 1 [10400/42000 (25%)]\tLoss: 159.038055\n",
      "Train Epoch: 1 [10800/42000 (26%)]\tLoss: 126.643143\n",
      "Train Epoch: 1 [11200/42000 (27%)]\tLoss: 123.938202\n",
      "Train Epoch: 1 [11600/42000 (28%)]\tLoss: 134.925201\n",
      "Train Epoch: 1 [12000/42000 (29%)]\tLoss: 116.412437\n",
      "Train Epoch: 1 [12400/42000 (30%)]\tLoss: 162.642319\n",
      "Train Epoch: 1 [12800/42000 (30%)]\tLoss: 165.088593\n",
      "Train Epoch: 1 [13200/42000 (31%)]\tLoss: 144.977570\n",
      "Train Epoch: 1 [13600/42000 (32%)]\tLoss: 143.475433\n",
      "Train Epoch: 1 [14000/42000 (33%)]\tLoss: 164.487274\n",
      "Train Epoch: 1 [14400/42000 (34%)]\tLoss: 134.479065\n",
      "Train Epoch: 1 [14800/42000 (35%)]\tLoss: 161.370453\n",
      "Train Epoch: 1 [15200/42000 (36%)]\tLoss: 125.652130\n",
      "Train Epoch: 1 [15600/42000 (37%)]\tLoss: 94.079666\n",
      "Train Epoch: 1 [16000/42000 (38%)]\tLoss: 128.600220\n",
      "Train Epoch: 1 [16400/42000 (39%)]\tLoss: 144.539093\n",
      "Train Epoch: 1 [16800/42000 (40%)]\tLoss: 139.371521\n",
      "Train Epoch: 1 [17200/42000 (41%)]\tLoss: 104.865097\n",
      "Train Epoch: 1 [17600/42000 (42%)]\tLoss: 142.310181\n",
      "Train Epoch: 1 [18000/42000 (43%)]\tLoss: 140.637589\n",
      "Train Epoch: 1 [18400/42000 (44%)]\tLoss: 147.231400\n",
      "Train Epoch: 1 [18800/42000 (45%)]\tLoss: 151.240891\n",
      "Train Epoch: 1 [19200/42000 (46%)]\tLoss: 109.301346\n",
      "Train Epoch: 1 [19600/42000 (47%)]\tLoss: 114.875015\n",
      "Train Epoch: 1 [20000/42000 (48%)]\tLoss: 113.984039\n",
      "Train Epoch: 1 [20400/42000 (49%)]\tLoss: 131.902573\n",
      "Train Epoch: 1 [20800/42000 (50%)]\tLoss: 107.777916\n",
      "Train Epoch: 1 [21200/42000 (50%)]\tLoss: 151.607681\n",
      "Train Epoch: 1 [21600/42000 (51%)]\tLoss: 128.680420\n",
      "Train Epoch: 1 [22000/42000 (52%)]\tLoss: 149.214111\n",
      "Train Epoch: 1 [22400/42000 (53%)]\tLoss: 108.153458\n",
      "Train Epoch: 1 [22800/42000 (54%)]\tLoss: 100.652626\n",
      "Train Epoch: 1 [23200/42000 (55%)]\tLoss: 136.434265\n",
      "Train Epoch: 1 [23600/42000 (56%)]\tLoss: 123.853500\n",
      "Train Epoch: 1 [24000/42000 (57%)]\tLoss: 72.750931\n",
      "Train Epoch: 1 [24400/42000 (58%)]\tLoss: 112.193008\n",
      "Train Epoch: 1 [24800/42000 (59%)]\tLoss: 115.423218\n",
      "Train Epoch: 1 [25200/42000 (60%)]\tLoss: 142.947540\n",
      "Train Epoch: 1 [25600/42000 (61%)]\tLoss: 121.917297\n",
      "Train Epoch: 1 [26000/42000 (62%)]\tLoss: 126.403748\n",
      "Train Epoch: 1 [26400/42000 (63%)]\tLoss: 143.435181\n",
      "Train Epoch: 1 [26800/42000 (64%)]\tLoss: 147.880920\n",
      "Train Epoch: 1 [27200/42000 (65%)]\tLoss: 116.896042\n",
      "Train Epoch: 1 [27600/42000 (66%)]\tLoss: 115.351990\n",
      "Train Epoch: 1 [28000/42000 (67%)]\tLoss: 105.157333\n",
      "Train Epoch: 1 [28400/42000 (68%)]\tLoss: 98.563873\n",
      "Train Epoch: 1 [28800/42000 (69%)]\tLoss: 99.940208\n",
      "Train Epoch: 1 [29200/42000 (70%)]\tLoss: 122.422928\n",
      "Train Epoch: 1 [29600/42000 (70%)]\tLoss: 95.828232\n",
      "Train Epoch: 1 [30000/42000 (71%)]\tLoss: 110.908363\n",
      "Train Epoch: 1 [30400/42000 (72%)]\tLoss: 135.918716\n",
      "Train Epoch: 1 [30800/42000 (73%)]\tLoss: 124.050369\n",
      "Train Epoch: 1 [31200/42000 (74%)]\tLoss: 131.531616\n",
      "Train Epoch: 1 [31600/42000 (75%)]\tLoss: 147.204391\n",
      "Train Epoch: 1 [32000/42000 (76%)]\tLoss: 147.940506\n",
      "Train Epoch: 1 [32400/42000 (77%)]\tLoss: 131.381699\n",
      "Train Epoch: 1 [32800/42000 (78%)]\tLoss: 127.768372\n",
      "Train Epoch: 1 [33200/42000 (79%)]\tLoss: 112.991455\n",
      "Train Epoch: 1 [33600/42000 (80%)]\tLoss: 94.955399\n",
      "Train Epoch: 1 [34000/42000 (81%)]\tLoss: 129.867096\n",
      "Train Epoch: 1 [34400/42000 (82%)]\tLoss: 105.178360\n",
      "Train Epoch: 1 [34800/42000 (83%)]\tLoss: 108.176254\n",
      "Train Epoch: 1 [35200/42000 (84%)]\tLoss: 118.924721\n",
      "Train Epoch: 1 [35600/42000 (85%)]\tLoss: 138.575409\n",
      "Train Epoch: 1 [36000/42000 (86%)]\tLoss: 108.325066\n",
      "Train Epoch: 1 [36400/42000 (87%)]\tLoss: 103.783310\n",
      "Train Epoch: 1 [36800/42000 (88%)]\tLoss: 109.294373\n",
      "Train Epoch: 1 [37200/42000 (89%)]\tLoss: 101.650246\n",
      "Train Epoch: 1 [37600/42000 (90%)]\tLoss: 106.753952\n",
      "Train Epoch: 1 [38000/42000 (90%)]\tLoss: 135.535828\n",
      "Train Epoch: 1 [38400/42000 (91%)]\tLoss: 110.629425\n",
      "Train Epoch: 1 [38800/42000 (92%)]\tLoss: 147.926880\n",
      "Train Epoch: 1 [39200/42000 (93%)]\tLoss: 107.714348\n",
      "Train Epoch: 1 [39600/42000 (94%)]\tLoss: 113.037880\n",
      "Train Epoch: 1 [40000/42000 (95%)]\tLoss: 95.148384\n",
      "Train Epoch: 1 [40400/42000 (96%)]\tLoss: 103.696777\n",
      "Train Epoch: 1 [40800/42000 (97%)]\tLoss: 137.594315\n",
      "Train Epoch: 1 [41200/42000 (98%)]\tLoss: 107.757599\n",
      "Train Epoch: 1 [41600/42000 (99%)]\tLoss: 102.715561\n"
     ]
    },
    {
     "ename": "NameError",
     "evalue": "name 'train_loader' is not defined",
     "output_type": "error",
     "traceback": [
      "\u001b[0;31m---------------------------------------------------------------------------\u001b[0m",
      "\u001b[0;31mNameError\u001b[0m                                 Traceback (most recent call last)",
      "\u001b[0;32m<ipython-input-35-78e1d6d2b504>\u001b[0m in \u001b[0;36m<module>\u001b[0;34m()\u001b[0m\n\u001b[1;32m     18\u001b[0m \u001b[0;34m\u001b[0m\u001b[0m\n\u001b[1;32m     19\u001b[0m print('====> Epoch: {} Average loss: {:.4f}'.format(\n\u001b[0;32m---> 20\u001b[0;31m       epoch, train_loss / len(train_loader.dataset)))\n\u001b[0m",
      "\u001b[0;31mNameError\u001b[0m: name 'train_loader' is not defined"
     ]
    }
   ],
   "source": [
    "#def train(epoch):\n",
    "epoch = 1\n",
    "model.train()\n",
    "train_loss = 0\n",
    "for batch_idx, (data, _) in enumerate(dataloader):\n",
    "    data = data.view(-1, 784) #.to(device)\n",
    "    optimizer.zero_grad()\n",
    "    recon_batch, mu, logvar = model(data)\n",
    "    loss = loss_function(recon_batch, data, mu, logvar)\n",
    "    loss.backward()\n",
    "    train_loss += loss.item()\n",
    "    optimizer.step()\n",
    "    if batch_idx % 100 == 0:\n",
    "        print('Train Epoch: {} [{}/{} ({:.0f}%)]\\tLoss: {:.6f}'.format(\n",
    "            epoch, batch_idx * len(data), len(mnist_dataset),\n",
    "            100. * batch_idx / len(dataloader),\n",
    "            loss.item() / len(data)))\n",
    "\n",
    "print('====> Epoch: {} Average loss: {:.4f}'.format(\n",
    "      epoch, train_loss / len(train_loader.dataset)))"
   ]
  },
  {
   "cell_type": "code",
   "execution_count": 13,
   "metadata": {},
   "outputs": [
    {
     "data": {
      "text/plain": [
       "torch.Size([4, 1, 28, 28])"
      ]
     },
     "execution_count": 13,
     "metadata": {},
     "output_type": "execute_result"
    }
   ],
   "source": [
    "data.shape"
   ]
  },
  {
   "cell_type": "code",
   "execution_count": null,
   "metadata": {},
   "outputs": [],
   "source": [
    "plt.imshow(data[1][0].detach().numpy())"
   ]
  },
  {
   "cell_type": "code",
   "execution_count": 46,
   "metadata": {},
   "outputs": [
    {
     "data": {
      "text/plain": [
       "<matplotlib.image.AxesImage at 0x7f06b0834630>"
      ]
     },
     "execution_count": 46,
     "metadata": {},
     "output_type": "execute_result"
    },
    {
     "data": {
      "image/png": "[encoded data removed]",
      "text/plain": [
       "<matplotlib.figure.Figure at 0x7f06b0929978>"
      ]
     },
     "metadata": {},
     "output_type": "display_data"
    }
   ],
   "source": [
    "plt.imshow(model(data.reshape(-1, 784))[0].reshape(4,28,28)[2].detach().numpy())"
   ]
  },
  {
   "cell_type": "code",
   "execution_count": 62,
   "metadata": {},
   "outputs": [
    {
     "data": {
      "text/plain": [
       "tensor([[-0.3544, -0.2594, -1.8047,  2.1147, -0.9204, -2.2100, -0.7898, -0.3405,\n",
       "         -0.8139, -0.3018],\n",
       "        [ 0.3035, -1.5446, -1.4792,  0.9002,  2.7652, -1.5214, -0.5923,  0.7390,\n",
       "          1.0623,  0.4475],\n",
       "        [ 0.9790, -1.4366, -0.5079,  0.4297, -2.2378,  0.2054,  0.0132, -1.9752,\n",
       "          2.2857,  0.1080],\n",
       "        [-1.4709,  0.9919,  0.9429,  0.4425,  0.8393, -0.1693, -0.2657,  0.4160,\n",
       "          1.2027, -0.8108]], grad_fn=<ThAddmmBackward>)"
      ]
     },
     "execution_count": 62,
     "metadata": {},
     "output_type": "execute_result"
    }
   ],
   "source": [
    "model.encode(data.reshape(-1, 784))[0]"
   ]
  },
  {
   "cell_type": "code",
   "execution_count": 72,
   "metadata": {},
   "outputs": [
    {
     "data": {
      "text/plain": [
       "<matplotlib.image.AxesImage at 0x7f7391873400>"
      ]
     },
     "execution_count": 72,
     "metadata": {},
     "output_type": "execute_result"
    },
    {
     "data": {
      "image/png": "[encoded data removed]",
      "text/plain": [
       "<matplotlib.figure.Figure at 0x7f739192f710>"
      ]
     },
     "metadata": {},
     "output_type": "display_data"
    }
   ],
   "source": [
    "plt.imshow(model.decode(torch.randn(10)).reshape(28,28).detach())"
   ]
  },
  {
   "cell_type": "code",
   "execution_count": null,
   "metadata": {},
   "outputs": [],
   "source": []
  },
  {
   "cell_type": "code",
   "execution_count": null,
   "metadata": {},
   "outputs": [],
   "source": []
  },
  {
   "cell_type": "code",
   "execution_count": null,
   "metadata": {},
   "outputs": [],
   "source": []
  },
  {
   "cell_type": "code",
   "execution_count": null,
   "metadata": {},
   "outputs": [],
   "source": [
    "def test(epoch):\n",
    "    model.eval()\n",
    "    test_loss = 0\n",
    "    with torch.no_grad():\n",
    "        for i, (data, _) in enumerate(test_loader):\n",
    "            data = data.to(device)\n",
    "            recon_batch, mu, logvar = model(data)\n",
    "            test_loss += loss_function(recon_batch, data, mu, logvar).item()\n",
    "            if i == 0:\n",
    "                n = min(data.size(0), 8)\n",
    "                comparison = torch.cat([data[:n],\n",
    "                                      recon_batch.view(args.batch_size, 1, 28, 28)[:n]])\n",
    "                save_image(comparison.cpu(),\n",
    "                         'results/reconstruction_' + str(epoch) + '.png', nrow=n)\n",
    "\n",
    "    test_loss /= len(test_loader.dataset)\n",
    "    print('====> Test set loss: {:.4f}'.format(test_loss))\n",
    "\n",
    "if __name__ == \"__main__\":\n",
    "    for epoch in range(1, args.epochs + 1):\n",
    "        train(epoch)\n",
    "        test(epoch)\n",
    "        with torch.no_grad():\n",
    "            sample = torch.randn(64, 20).to(device)\n",
    "            sample = model.decode(sample).cpu()\n",
    "            save_image(sample.view(64, 1, 28, 28),\n",
    "'results/sample_' + str(epoch) + '.png')"
   ]
  }
 ],
 "metadata": {
  "kernelspec": {
   "display_name": "Python 3",
   "language": "python",
   "name": "python3"
  },
  "language_info": {
   "codemirror_mode": {
    "name": "ipython",
    "version": 3
   },
   "file_extension": ".py",
   "mimetype": "text/x-python",
   "name": "python",
   "nbconvert_exporter": "python",
   "pygments_lexer": "ipython3",
   "version": "3.6.3"
  }
 },
 "nbformat": 4,
 "nbformat_minor": 2
}
