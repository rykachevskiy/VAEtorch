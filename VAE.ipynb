{
 "cells": [
  {
   "cell_type": "code",
   "execution_count": 1,
   "metadata": {},
   "outputs": [],
   "source": [
    "%load_ext autoreload\n",
    "%autoreload 2"
   ]
  },
  {
   "cell_type": "code",
   "execution_count": 2,
   "metadata": {},
   "outputs": [],
   "source": [
    "import numpy as np\n",
    "import torch\n",
    "\n",
    "import matplotlib.pyplot as plt\n",
    "\n",
    "\n",
    "import torch\n",
    "from torch.utils.data import DataLoader, Dataset\n",
    "from torch import nn, optim\n",
    "from torch.nn import functional as F\n",
    "from torchvision import datasets, transforms\n",
    "from torchvision.utils import save_image"
   ]
  },
  {
   "cell_type": "code",
   "execution_count": 3,
   "metadata": {},
   "outputs": [],
   "source": [
    "import pandas as pd\n",
    "\n",
    "class MnistDataset(torch.utils.data.Dataset):\n",
    "\n",
    "    def __init__(self, file, transform=None):\n",
    "        \"\"\"\n",
    "        Args:\n",
    "            csv_file (string): Path to the csv file with annotations.\n",
    "            root_dir (string): Directory with all the images.\n",
    "            transform (callable, optional): Optional transform to be applied\n",
    "                on a sample.\n",
    "        \"\"\"\n",
    "        data = pd.read_csv(file)\n",
    "        print(data.shape)\n",
    "        self.x = data[data.columns[1:]].values.reshape(-1, 28,28) / 255\n",
    "        self.y = data[data.columns[0]].values\n",
    "        del data\n",
    "        self.transform = transform\n",
    "\n",
    "    def __len__(self):\n",
    "        return self.y.shape[0]\n",
    "\n",
    "    def __getitem__(self, idx):\n",
    "        return self.x[idx].reshape(1,28,28).astype(np.float32), self.y[idx]"
   ]
  },
  {
   "cell_type": "code",
   "execution_count": 9,
   "metadata": {},
   "outputs": [
    {
     "name": "stdout",
     "output_type": "stream",
     "text": [
      "(42000, 785)\n"
     ]
    }
   ],
   "source": [
    "mnist_dataset = MnistDataset(\"../../239_all/239/6.Intro_to_NN/data/train.csv\")"
   ]
  },
  {
   "cell_type": "code",
   "execution_count": 10,
   "metadata": {},
   "outputs": [
    {
     "data": {
      "text/plain": [
       "<__main__.MnistDataset at 0x7f4510418630>"
      ]
     },
     "execution_count": 10,
     "metadata": {},
     "output_type": "execute_result"
    }
   ],
   "source": [
    "mnist_dataset"
   ]
  },
  {
   "cell_type": "code",
   "execution_count": 11,
   "metadata": {},
   "outputs": [],
   "source": [
    "dataloader = DataLoader(mnist_dataset, batch_size=4,\n",
    "                        shuffle=True, num_workers=4)"
   ]
  },
  {
   "cell_type": "markdown",
   "metadata": {},
   "source": [
    "# FACES"
   ]
  },
  {
   "cell_type": "code",
   "execution_count": 4,
   "metadata": {},
   "outputs": [],
   "source": [
    "import cv2"
   ]
  },
  {
   "cell_type": "code",
   "execution_count": 5,
   "metadata": {},
   "outputs": [],
   "source": [
    "import pandas as pd\n",
    "import os\n",
    "\n",
    "class FacesDataset(torch.utils.data.Dataset):\n",
    "\n",
    "    def __init__(self, path, transform=None):\n",
    "        \"\"\"\n",
    "        Args:\n",
    "            csv_file (string): Path to the csv file with annotations.\n",
    "            root_dir (string): Directory with all the images.\n",
    "            transform (callable, optional): Optional transform to be applied\n",
    "                on a sample.\n",
    "        \"\"\"\n",
    "        \n",
    "        files = os.listdir(path)\n",
    "        data = np.zeros((len(files), 64,64))\n",
    "        for i, file in enumerate(files):\n",
    "            pic = cv2.resize(plt.imread(path + file), (64,64))\n",
    "            if len(pic.shape) > 2:\n",
    "                pic = pic[:,:,0]\n",
    "            data[i] = pic.reshape(64,64)\n",
    "        \n",
    "        #data = pd.read_csv(file)\n",
    "        print(data.shape)\n",
    "        self.x = data / 255\n",
    "        del data\n",
    "        self.transform = transform\n",
    "\n",
    "    def __len__(self):\n",
    "        return self.x.shape[0]\n",
    "\n",
    "    def __getitem__(self, idx):\n",
    "        return self.x[idx].reshape(1,64,64).astype(np.float32)"
   ]
  },
  {
   "cell_type": "code",
   "execution_count": 188,
   "metadata": {},
   "outputs": [
    {
     "name": "stdout",
     "output_type": "stream",
     "text": [
      "(213, 64, 64)\n"
     ]
    }
   ],
   "source": [
    "faces_dataset = FacesDataset(\"./data/jaffe/\", transform=transforms.RandomAffine(1))"
   ]
  },
  {
   "cell_type": "code",
   "execution_count": 189,
   "metadata": {},
   "outputs": [
    {
     "data": {
      "text/plain": [
       "<__main__.FacesDataset at 0x7f4535086be0>"
      ]
     },
     "execution_count": 189,
     "metadata": {},
     "output_type": "execute_result"
    }
   ],
   "source": [
    "faces_dataset"
   ]
  },
  {
   "cell_type": "code",
   "execution_count": 190,
   "metadata": {},
   "outputs": [],
   "source": [
    "dataloader = DataLoader(faces_dataset, batch_size=4,\n",
    "                        shuffle=True, num_workers=4)"
   ]
  },
  {
   "cell_type": "code",
   "execution_count": 191,
   "metadata": {},
   "outputs": [
    {
     "data": {
      "text/plain": [
       "<matplotlib.image.AxesImage at 0x7f45349d3588>"
      ]
     },
     "execution_count": 191,
     "metadata": {},
     "output_type": "execute_result"
    },
    {
     "data": {
      "image/png": "[encoded data removed]",
      "text/plain": [
       "<matplotlib.figure.Figure at 0x7f4535086c88>"
      ]
     },
     "metadata": {},
     "output_type": "display_data"
    }
   ],
   "source": [
    "plt.imshow(faces_dataset.__getitem__(10)[0])"
   ]
  },
  {
   "cell_type": "code",
   "execution_count": null,
   "metadata": {},
   "outputs": [],
   "source": []
  },
  {
   "cell_type": "markdown",
   "metadata": {},
   "source": [
    "# SNOWDEN VS TRUMP"
   ]
  },
  {
   "cell_type": "code",
   "execution_count": 6,
   "metadata": {},
   "outputs": [],
   "source": [
    "import cv2"
   ]
  },
  {
   "cell_type": "code",
   "execution_count": 7,
   "metadata": {},
   "outputs": [],
   "source": [
    "import h5py"
   ]
  },
  {
   "cell_type": "code",
   "execution_count": 72,
   "metadata": {},
   "outputs": [],
   "source": [
    "import pandas as pd\n",
    "import os\n",
    "\n",
    "class FacesDataset(torch.utils.data.Dataset):\n",
    "\n",
    "    def __init__(self, data, transform=None):\n",
    "        \"\"\"\n",
    "        Args:\n",
    "            csv_file (string): Path to the csv file with annotations.\n",
    "            root_dir (string): Directory with all the images.\n",
    "            transform (callable, optional): Optional transform to be applied\n",
    "                on a sample.\n",
    "        \"\"\"\n",
    "    \n",
    "        print(data.shape)\n",
    "        self.x = data\n",
    "        del data\n",
    "        self.transform = transform\n",
    "\n",
    "    def __len__(self):\n",
    "        return self.x.shape[0]\n",
    "\n",
    "    def __getitem__(self, idx):\n",
    "        return self.x[idx].reshape(1,64,64).astype(np.float32)"
   ]
  },
  {
   "cell_type": "code",
   "execution_count": 73,
   "metadata": {},
   "outputs": [],
   "source": [
    "def read_h5(file):\n",
    "    f = h5py.File(file, 'r')\n",
    "    print(\"Keys: %s\" % f.keys())\n",
    "    \n",
    "    a_group_key = list(f.keys())[0]\n",
    "    data = list(f[a_group_key])\n",
    "    f.close()\n",
    "    \n",
    "    \n",
    "    return np.stack(data)[:,:,:,0].reshape(-1,1,64,64)"
   ]
  },
  {
   "cell_type": "code",
   "execution_count": 74,
   "metadata": {
    "scrolled": true
   },
   "outputs": [
    {
     "name": "stdout",
     "output_type": "stream",
     "text": [
      "Keys: <KeysViewHDF5 ['data']>\n",
      "Keys: <KeysViewHDF5 ['data']>\n"
     ]
    }
   ],
   "source": [
    "data_trump = read_h5('./data/donald.h5')\n",
    "data_snowden = read_h5(\"./data/snowden.h5\")"
   ]
  },
  {
   "cell_type": "code",
   "execution_count": null,
   "metadata": {},
   "outputs": [],
   "source": []
  },
  {
   "cell_type": "code",
   "execution_count": 75,
   "metadata": {},
   "outputs": [
    {
     "name": "stdout",
     "output_type": "stream",
     "text": [
      "(85000, 1, 64, 64)\n",
      "(75765, 1, 64, 64)\n"
     ]
    }
   ],
   "source": [
    "trump_dataset = FacesDataset(data_trump / 255)#, transform=transforms.RandomAffine(1))\n",
    "snowden_dataset = FacesDataset(data_snowden / 255)#, transform=transforms.RandomAffine(1))"
   ]
  },
  {
   "cell_type": "code",
   "execution_count": 76,
   "metadata": {},
   "outputs": [],
   "source": [
    "t_dataloader = DataLoader(trump_dataset, batch_size=4,\n",
    "                        shuffle=True, num_workers=4)\n",
    "s_dataloader = DataLoader(snowden_dataset, batch_size=4,\n",
    "                        shuffle=True, num_workers=4)"
   ]
  },
  {
   "cell_type": "markdown",
   "metadata": {},
   "source": [
    "## VAE"
   ]
  },
  {
   "cell_type": "code",
   "execution_count": 15,
   "metadata": {},
   "outputs": [],
   "source": [
    "import sys\n",
    "sys.path.append(\"./models/encoder\")"
   ]
  },
  {
   "cell_type": "code",
   "execution_count": 16,
   "metadata": {},
   "outputs": [],
   "source": [
    "from models.models import *"
   ]
  },
  {
   "cell_type": "code",
   "execution_count": 33,
   "metadata": {},
   "outputs": [],
   "source": [
    "# enc = Encoder(np.array([28,28]), 10)\n",
    "# dec = Decoder(enc.last_conv_shape, 10 )"
   ]
  },
  {
   "cell_type": "code",
   "execution_count": 34,
   "metadata": {},
   "outputs": [],
   "source": [
    "#dec(enc(torch.rand(10,784))[0]).shape"
   ]
  },
  {
   "cell_type": "code",
   "execution_count": 35,
   "metadata": {},
   "outputs": [],
   "source": [
    "# model = VAE().to(device)\n",
    "# optimizer = optim.Adam(model.parameters(), lr=1e-3)\n",
    "\n",
    "\n",
    "# Reconstruction + KL divergence losses summed over all elements and batch\n",
    "def loss_function(recon_x, x, mu, sigma, v = 0):\n",
    "    #MSE = torch.mean((x-recon_x)**2)\n",
    "    BCE = F.binary_cross_entropy(recon_x, x, reduction='sum')\n",
    "    #.view(-1, 784), reduction='sum')\n",
    "    # see Appendix B from VAE paper:\n",
    "    # Kingma and Welling. Auto-Encoding Variational Bayes. ICLR, 2014\n",
    "    # https://arxiv.org/abs/1312.6114\n",
    "    # 0.5 * sum(1 + log(sigma^2) - mu^2 - sigma^2)\n",
    "    KLD = - 0.5 * torch.sum(1 + sigma - mu.pow(2) - torch.exp(sigma))\n",
    "    if v:\n",
    "        print(f\"BCE {BCE}, KLD {KLD}\")\n",
    "    return BCE + KLD"
   ]
  },
  {
   "cell_type": "code",
   "execution_count": 17,
   "metadata": {},
   "outputs": [],
   "source": [
    "# Reconstruction + KL divergence losses summed over all elements and batch\n",
    "def loss_function(recon_x, x, mu, logvar):\n",
    "    BCE = F.binary_cross_entropy(recon_x, x, reduction='sum')\n",
    "\n",
    "    # see Appendix B from VAE paper:\n",
    "    # Kingma and Welling. Auto-Encoding Variational Bayes. ICLR, 2014\n",
    "    # https://arxiv.org/abs/1312.6114\n",
    "    # 0.5 * sum(1 + log(sigma^2) - mu^2 - sigma^2)\n",
    "    KLD = -0.5 * torch.sum(1 + logvar - mu.pow(2) - logvar.exp())\n",
    "\n",
    "    return BCE + KLD"
   ]
  },
  {
   "cell_type": "code",
   "execution_count": 25,
   "metadata": {},
   "outputs": [
    {
     "name": "stdout",
     "output_type": "stream",
     "text": [
      "Train Epoch: 0 [0/75765 (0%)]\tLoss: 2873.949463\n",
      "Train Epoch: 0 [80/75765 (0%)]\tLoss: 8718.841797\n",
      "Train Epoch: 0 [160/75765 (0%)]\tLoss: 6512.064941\n",
      "Train Epoch: 0 [240/75765 (0%)]\tLoss: 6819.505859\n"
     ]
    },
    {
     "ename": "KeyboardInterrupt",
     "evalue": "",
     "output_type": "error",
     "traceback": [
      "\u001b[0;31m---------------------------------------------------------------------------\u001b[0m",
      "\u001b[0;31mKeyboardInterrupt\u001b[0m                         Traceback (most recent call last)",
      "\u001b[0;32m<ipython-input-25-62ac34293563>\u001b[0m in \u001b[0;36m<module>\u001b[0;34m\u001b[0m\n\u001b[1;32m      3\u001b[0m     \u001b[0mt_vae\u001b[0m \u001b[0;34m=\u001b[0m \u001b[0mVAE\u001b[0m\u001b[0;34m(\u001b[0m\u001b[0;34m(\u001b[0m\u001b[0;36m64\u001b[0m\u001b[0;34m,\u001b[0m\u001b[0;36m64\u001b[0m\u001b[0;34m)\u001b[0m\u001b[0;34m,\u001b[0m \u001b[0;36m100\u001b[0m\u001b[0;34m)\u001b[0m\u001b[0;34m\u001b[0m\u001b[0m\n\u001b[1;32m      4\u001b[0m     \u001b[0ms_vae\u001b[0m \u001b[0;34m=\u001b[0m \u001b[0mVAE\u001b[0m\u001b[0;34m(\u001b[0m\u001b[0;34m(\u001b[0m\u001b[0;36m64\u001b[0m\u001b[0;34m,\u001b[0m\u001b[0;36m64\u001b[0m\u001b[0;34m)\u001b[0m\u001b[0;34m,\u001b[0m \u001b[0;36m100\u001b[0m\u001b[0;34m)\u001b[0m\u001b[0;34m\u001b[0m\u001b[0m\n\u001b[0;32m----> 5\u001b[0;31m     \u001b[0mtrain_vae\u001b[0m\u001b[0;34m(\u001b[0m\u001b[0ms_vae\u001b[0m\u001b[0;34m,\u001b[0m\u001b[0ms_dataloader\u001b[0m\u001b[0;34m)\u001b[0m\u001b[0;34m\u001b[0m\u001b[0m\n\u001b[0m",
      "\u001b[0;32m<ipython-input-23-2abf1901f9a2>\u001b[0m in \u001b[0;36mtrain_vae\u001b[0;34m(vae, dataloader, max_epochs)\u001b[0m\n\u001b[1;32m     12\u001b[0m             \u001b[0mloss\u001b[0m \u001b[0;34m=\u001b[0m \u001b[0mloss_function\u001b[0m\u001b[0;34m(\u001b[0m\u001b[0mout\u001b[0m\u001b[0;34m,\u001b[0m \u001b[0mbatch_x\u001b[0m\u001b[0;34m,\u001b[0m \u001b[0mmu\u001b[0m\u001b[0;34m,\u001b[0m \u001b[0msigma\u001b[0m\u001b[0;34m)\u001b[0m\u001b[0;34m\u001b[0m\u001b[0m\n\u001b[1;32m     13\u001b[0m             \u001b[0mloss\u001b[0m\u001b[0;34m.\u001b[0m\u001b[0mbackward\u001b[0m\u001b[0;34m(\u001b[0m\u001b[0;34m)\u001b[0m\u001b[0;34m\u001b[0m\u001b[0m\n\u001b[0;32m---> 14\u001b[0;31m             \u001b[0mopt\u001b[0m\u001b[0;34m.\u001b[0m\u001b[0mstep\u001b[0m\u001b[0;34m(\u001b[0m\u001b[0;34m)\u001b[0m\u001b[0;34m\u001b[0m\u001b[0m\n\u001b[0m\u001b[1;32m     15\u001b[0m \u001b[0;34m\u001b[0m\u001b[0m\n\u001b[1;32m     16\u001b[0m             \u001b[0mlosses\u001b[0m\u001b[0;34m.\u001b[0m\u001b[0mappend\u001b[0m\u001b[0;34m(\u001b[0m\u001b[0mloss\u001b[0m\u001b[0;34m.\u001b[0m\u001b[0mitem\u001b[0m\u001b[0;34m(\u001b[0m\u001b[0;34m)\u001b[0m \u001b[0;34m/\u001b[0m \u001b[0mlen\u001b[0m\u001b[0;34m(\u001b[0m\u001b[0mbatch_x\u001b[0m\u001b[0;34m)\u001b[0m\u001b[0;34m)\u001b[0m\u001b[0;34m\u001b[0m\u001b[0m\n",
      "\u001b[0;32m/opt/conda/envs/fastai/lib/python3.6/site-packages/torch/optim/adam.py\u001b[0m in \u001b[0;36mstep\u001b[0;34m(self, closure)\u001b[0m\n\u001b[1;32m    105\u001b[0m                 \u001b[0mstep_size\u001b[0m \u001b[0;34m=\u001b[0m \u001b[0mgroup\u001b[0m\u001b[0;34m[\u001b[0m\u001b[0;34m'lr'\u001b[0m\u001b[0;34m]\u001b[0m \u001b[0;34m*\u001b[0m \u001b[0mmath\u001b[0m\u001b[0;34m.\u001b[0m\u001b[0msqrt\u001b[0m\u001b[0;34m(\u001b[0m\u001b[0mbias_correction2\u001b[0m\u001b[0;34m)\u001b[0m \u001b[0;34m/\u001b[0m \u001b[0mbias_correction1\u001b[0m\u001b[0;34m\u001b[0m\u001b[0m\n\u001b[1;32m    106\u001b[0m \u001b[0;34m\u001b[0m\u001b[0m\n\u001b[0;32m--> 107\u001b[0;31m                 \u001b[0mp\u001b[0m\u001b[0;34m.\u001b[0m\u001b[0mdata\u001b[0m\u001b[0;34m.\u001b[0m\u001b[0maddcdiv_\u001b[0m\u001b[0;34m(\u001b[0m\u001b[0;34m-\u001b[0m\u001b[0mstep_size\u001b[0m\u001b[0;34m,\u001b[0m \u001b[0mexp_avg\u001b[0m\u001b[0;34m,\u001b[0m \u001b[0mdenom\u001b[0m\u001b[0;34m)\u001b[0m\u001b[0;34m\u001b[0m\u001b[0m\n\u001b[0m\u001b[1;32m    108\u001b[0m \u001b[0;34m\u001b[0m\u001b[0m\n\u001b[1;32m    109\u001b[0m         \u001b[0;32mreturn\u001b[0m \u001b[0mloss\u001b[0m\u001b[0;34m\u001b[0m\u001b[0m\n",
      "\u001b[0;31mKeyboardInterrupt\u001b[0m: "
     ]
    }
   ],
   "source": [
    "cuda = torch.device('cuda')\n",
    "with torch.cuda.device(0):\n",
    "    t_vae = VAE((64,64), 100)\n",
    "    s_vae = VAE((64,64), 100)\n",
    "    train_vae(s_vae,s_dataloader)"
   ]
  },
  {
   "cell_type": "code",
   "execution_count": 27,
   "metadata": {},
   "outputs": [
    {
     "name": "stdout",
     "output_type": "stream",
     "text": [
      "Sun Jan  6 19:53:18 2019       \r\n",
      "+-----------------------------------------------------------------------------+\r\n",
      "| NVIDIA-SMI 410.48                 Driver Version: 410.48                    |\r\n",
      "|-------------------------------+----------------------+----------------------+\r\n",
      "| GPU  Name        Persistence-M| Bus-Id        Disp.A | Volatile Uncorr. ECC |\r\n",
      "| Fan  Temp  Perf  Pwr:Usage/Cap|         Memory-Usage | GPU-Util  Compute M. |\r\n",
      "|===============================+======================+======================|\r\n",
      "|   0  Quadro P5000        Off  | 00000000:00:05.0 Off |                  Off |\r\n",
      "| 26%   36C    P0    43W / 180W |   1255MiB / 16278MiB |      0%      Default |\r\n",
      "+-------------------------------+----------------------+----------------------+\r\n",
      "                                                                               \r\n",
      "+-----------------------------------------------------------------------------+\r\n",
      "| Processes:                                                       GPU Memory |\r\n",
      "|  GPU       PID   Type   Process name                             Usage      |\r\n",
      "|=============================================================================|\r\n",
      "+-----------------------------------------------------------------------------+\r\n"
     ]
    }
   ],
   "source": [
    "!nvidia-smi"
   ]
  },
  {
   "cell_type": "code",
   "execution_count": 26,
   "metadata": {},
   "outputs": [],
   "source": [
    "t_vae = VAE((64,64), 100).cuda()\n",
    "s_vae = VAE((64,64), 100).cuda()"
   ]
  },
  {
   "cell_type": "code",
   "execution_count": 28,
   "metadata": {},
   "outputs": [],
   "source": [
    "def train_vae(vae, dataloader, max_epochs=1):\n",
    "    opt = optim.Adam(vae.parameters(), lr=0.001)\n",
    "    losses = []\n",
    "    \n",
    "    for epoch in range(max_epochs):\n",
    "        for batch_idx, batch_x in enumerate(dataloader):\n",
    "\n",
    "            opt.zero_grad()\n",
    "            batch_x = batch_x#.view(-1, 784)\n",
    "            out, mu, sigma = vae(batch_x.cuda())\n",
    "\n",
    "            loss = loss_function(out, batch_x.cuda(), mu, sigma)\n",
    "            loss.backward()\n",
    "            opt.step()\n",
    "\n",
    "            losses.append(loss.item() / len(batch_x))\n",
    "            if batch_idx%20 == 0:\n",
    "               #print(loss.item() / len(batch_x))\n",
    "                print('Train Epoch: {} [{}/{} ({:.0f}%)]\\tLoss: {:.6f}'.format(\n",
    "                    epoch, batch_idx * len(batch_x), len(dataloader.dataset),\n",
    "                    100. * batch_idx / len(dataloader),\n",
    "                    loss.item() / len(batch_x)))"
   ]
  },
  {
   "cell_type": "code",
   "execution_count": 29,
   "metadata": {},
   "outputs": [
    {
     "name": "stdout",
     "output_type": "stream",
     "text": [
      "Train Epoch: 0 [0/75765 (0%)]\tLoss: 2914.267090\n",
      "Train Epoch: 0 [80/75765 (0%)]\tLoss: 8323.587891\n",
      "Train Epoch: 0 [160/75765 (0%)]\tLoss: 20397960.000000\n",
      "Train Epoch: 0 [240/75765 (0%)]\tLoss: 6390.797852\n",
      "Train Epoch: 0 [320/75765 (0%)]\tLoss: 6568.889648\n",
      "Train Epoch: 0 [400/75765 (1%)]\tLoss: 6464.524902\n",
      "Train Epoch: 0 [480/75765 (1%)]\tLoss: 6829.412109\n",
      "Train Epoch: 0 [560/75765 (1%)]\tLoss: 753234.437500\n",
      "Train Epoch: 0 [640/75765 (1%)]\tLoss: 26256.472656\n",
      "Train Epoch: 0 [720/75765 (1%)]\tLoss: 165393264.000000\n",
      "Train Epoch: 0 [800/75765 (1%)]\tLoss: 92142080.000000\n",
      "Train Epoch: 0 [880/75765 (1%)]\tLoss: 21368918.000000\n",
      "Train Epoch: 0 [960/75765 (1%)]\tLoss: 7960.181641\n",
      "Train Epoch: 0 [1040/75765 (1%)]\tLoss: 9443.286133\n",
      "Train Epoch: 0 [1120/75765 (1%)]\tLoss: 2537346.750000\n",
      "Train Epoch: 0 [1200/75765 (2%)]\tLoss: 2956776.000000\n",
      "Train Epoch: 0 [1280/75765 (2%)]\tLoss: 14303.582031\n",
      "Train Epoch: 0 [1360/75765 (2%)]\tLoss: 9846.685547\n",
      "Train Epoch: 0 [1440/75765 (2%)]\tLoss: 10052.176758\n",
      "Train Epoch: 0 [1520/75765 (2%)]\tLoss: 35154468864.000000\n",
      "Train Epoch: 0 [1600/75765 (2%)]\tLoss: 12695.556641\n",
      "Train Epoch: 0 [1680/75765 (2%)]\tLoss: 201414224.000000\n",
      "Train Epoch: 0 [1760/75765 (2%)]\tLoss: 10198.318359\n",
      "Train Epoch: 0 [1840/75765 (2%)]\tLoss: 28859865088.000000\n",
      "Train Epoch: 0 [1920/75765 (3%)]\tLoss: 17036.175781\n",
      "Train Epoch: 0 [2000/75765 (3%)]\tLoss: 300427552.000000\n",
      "Train Epoch: 0 [2080/75765 (3%)]\tLoss: 17531.148438\n",
      "Train Epoch: 0 [2160/75765 (3%)]\tLoss: 19085.146484\n",
      "Train Epoch: 0 [2240/75765 (3%)]\tLoss: 9666.516602\n",
      "Train Epoch: 0 [2320/75765 (3%)]\tLoss: 18652.210938\n",
      "Train Epoch: 0 [2400/75765 (3%)]\tLoss: 8353.207031\n",
      "Train Epoch: 0 [2480/75765 (3%)]\tLoss: 9376.988281\n",
      "Train Epoch: 0 [2560/75765 (3%)]\tLoss: 1081464.250000\n",
      "Train Epoch: 0 [2640/75765 (3%)]\tLoss: 9375.607422\n",
      "Train Epoch: 0 [2720/75765 (4%)]\tLoss: 7692743.500000\n",
      "Train Epoch: 0 [2800/75765 (4%)]\tLoss: 197500592.000000\n",
      "Train Epoch: 0 [2880/75765 (4%)]\tLoss: 13085.093750\n",
      "Train Epoch: 0 [2960/75765 (4%)]\tLoss: 15281.625000\n",
      "Train Epoch: 0 [3040/75765 (4%)]\tLoss: 14581.887695\n",
      "Train Epoch: 0 [3120/75765 (4%)]\tLoss: 734309.562500\n",
      "Train Epoch: 0 [3200/75765 (4%)]\tLoss: 16956.033203\n",
      "Train Epoch: 0 [3280/75765 (4%)]\tLoss: 14482.648438\n",
      "Train Epoch: 0 [3360/75765 (4%)]\tLoss: 28956.261719\n",
      "Train Epoch: 0 [3440/75765 (5%)]\tLoss: 13717.668945\n",
      "Train Epoch: 0 [3520/75765 (5%)]\tLoss: 144268832.000000\n",
      "Train Epoch: 0 [3600/75765 (5%)]\tLoss: 8784.737305\n",
      "Train Epoch: 0 [3680/75765 (5%)]\tLoss: 1816324.250000\n",
      "Train Epoch: 0 [3760/75765 (5%)]\tLoss: 11084.297852\n",
      "Train Epoch: 0 [3840/75765 (5%)]\tLoss: 16716.609375\n",
      "Train Epoch: 0 [3920/75765 (5%)]\tLoss: 24462.896484\n",
      "Train Epoch: 0 [4000/75765 (5%)]\tLoss: 11651.785156\n",
      "Train Epoch: 0 [4080/75765 (5%)]\tLoss: 5324164.000000\n",
      "Train Epoch: 0 [4160/75765 (5%)]\tLoss: 12735.638672\n",
      "Train Epoch: 0 [4240/75765 (6%)]\tLoss: 93066.390625\n",
      "Train Epoch: 0 [4320/75765 (6%)]\tLoss: 9645.837891\n",
      "Train Epoch: 0 [4400/75765 (6%)]\tLoss: 11437.205078\n",
      "Train Epoch: 0 [4480/75765 (6%)]\tLoss: 10331.771484\n",
      "Train Epoch: 0 [4560/75765 (6%)]\tLoss: 8937.944336\n",
      "Train Epoch: 0 [4640/75765 (6%)]\tLoss: 14016.529297\n",
      "Train Epoch: 0 [4720/75765 (6%)]\tLoss: 11823.885742\n",
      "Train Epoch: 0 [4800/75765 (6%)]\tLoss: 10282.593750\n",
      "Train Epoch: 0 [4880/75765 (6%)]\tLoss: 6775062.500000\n",
      "Train Epoch: 0 [4960/75765 (7%)]\tLoss: 123144.601562\n",
      "Train Epoch: 0 [5040/75765 (7%)]\tLoss: 3724882.750000\n",
      "Train Epoch: 0 [5120/75765 (7%)]\tLoss: 392968.250000\n",
      "Train Epoch: 0 [5200/75765 (7%)]\tLoss: 1271766.250000\n",
      "Train Epoch: 0 [5280/75765 (7%)]\tLoss: 20007.027344\n",
      "Train Epoch: 0 [5360/75765 (7%)]\tLoss: 474974.656250\n",
      "Train Epoch: 0 [5440/75765 (7%)]\tLoss: 13918.037109\n",
      "Train Epoch: 0 [5520/75765 (7%)]\tLoss: 18057.871094\n",
      "Train Epoch: 0 [5600/75765 (7%)]\tLoss: 11296986.000000\n",
      "Train Epoch: 0 [5680/75765 (7%)]\tLoss: 10801.230469\n",
      "Train Epoch: 0 [5760/75765 (8%)]\tLoss: 14475.497070\n",
      "Train Epoch: 0 [5840/75765 (8%)]\tLoss: 33591252.000000\n",
      "Train Epoch: 0 [5920/75765 (8%)]\tLoss: 91910.343750\n",
      "Train Epoch: 0 [6000/75765 (8%)]\tLoss: 18214.558594\n",
      "Train Epoch: 0 [6080/75765 (8%)]\tLoss: 11416.552734\n",
      "Train Epoch: 0 [6160/75765 (8%)]\tLoss: 15043134.000000\n",
      "Train Epoch: 0 [6240/75765 (8%)]\tLoss: 3395506944.000000\n",
      "Train Epoch: 0 [6320/75765 (8%)]\tLoss: 11521.869141\n",
      "Train Epoch: 0 [6400/75765 (8%)]\tLoss: 11433.152344\n",
      "Train Epoch: 0 [6480/75765 (9%)]\tLoss: 20263978.000000\n",
      "Train Epoch: 0 [6560/75765 (9%)]\tLoss: 28863.546875\n",
      "Train Epoch: 0 [6640/75765 (9%)]\tLoss: 13995.269531\n",
      "Train Epoch: 0 [6720/75765 (9%)]\tLoss: 16900.914062\n",
      "Train Epoch: 0 [6800/75765 (9%)]\tLoss: 28528.523438\n",
      "Train Epoch: 0 [6880/75765 (9%)]\tLoss: 484905.218750\n",
      "Train Epoch: 0 [6960/75765 (9%)]\tLoss: 16910.421875\n",
      "Train Epoch: 0 [7040/75765 (9%)]\tLoss: 15034.466797\n",
      "Train Epoch: 0 [7120/75765 (9%)]\tLoss: 14957.479492\n",
      "Train Epoch: 0 [7200/75765 (10%)]\tLoss: 14121.521484\n",
      "Train Epoch: 0 [7280/75765 (10%)]\tLoss: 14696.302734\n",
      "Train Epoch: 0 [7360/75765 (10%)]\tLoss: 78323.156250\n",
      "Train Epoch: 0 [7440/75765 (10%)]\tLoss: 40228.351562\n",
      "Train Epoch: 0 [7520/75765 (10%)]\tLoss: 12607.178711\n",
      "Train Epoch: 0 [7600/75765 (10%)]\tLoss: 16539.935547\n",
      "Train Epoch: 0 [7680/75765 (10%)]\tLoss: 14911.289062\n",
      "Train Epoch: 0 [7760/75765 (10%)]\tLoss: 66584.234375\n",
      "Train Epoch: 0 [7840/75765 (10%)]\tLoss: 1222838.250000\n",
      "Train Epoch: 0 [7920/75765 (10%)]\tLoss: 18030.236328\n",
      "Train Epoch: 0 [8000/75765 (11%)]\tLoss: 19911.416016\n",
      "Train Epoch: 0 [8080/75765 (11%)]\tLoss: 19889.871094\n",
      "Train Epoch: 0 [8160/75765 (11%)]\tLoss: 15665.574219\n",
      "Train Epoch: 0 [8240/75765 (11%)]\tLoss: 14306.093750\n",
      "Train Epoch: 0 [8320/75765 (11%)]\tLoss: 17282.882812\n",
      "Train Epoch: 0 [8400/75765 (11%)]\tLoss: 19440.298828\n",
      "Train Epoch: 0 [8480/75765 (11%)]\tLoss: 14033.363281\n",
      "Train Epoch: 0 [8560/75765 (11%)]\tLoss: 14043.713867\n",
      "Train Epoch: 0 [8640/75765 (11%)]\tLoss: 14140.405273\n",
      "Train Epoch: 0 [8720/75765 (12%)]\tLoss: 14049.340820\n",
      "Train Epoch: 0 [8800/75765 (12%)]\tLoss: 100322.203125\n",
      "Train Epoch: 0 [8880/75765 (12%)]\tLoss: 14831.735352\n",
      "Train Epoch: 0 [8960/75765 (12%)]\tLoss: 107767.390625\n",
      "Train Epoch: 0 [9040/75765 (12%)]\tLoss: 39855.316406\n",
      "Train Epoch: 0 [9120/75765 (12%)]\tLoss: 13793.259766\n",
      "Train Epoch: 0 [9200/75765 (12%)]\tLoss: 852186.375000\n",
      "Train Epoch: 0 [9280/75765 (12%)]\tLoss: 15588.078125\n",
      "Train Epoch: 0 [9360/75765 (12%)]\tLoss: 500330.625000\n",
      "Train Epoch: 0 [9440/75765 (12%)]\tLoss: 733984.250000\n",
      "Train Epoch: 0 [9520/75765 (13%)]\tLoss: 12603.501953\n",
      "Train Epoch: 0 [9600/75765 (13%)]\tLoss: 10911.476562\n",
      "Train Epoch: 0 [9680/75765 (13%)]\tLoss: 11291.998047\n",
      "Train Epoch: 0 [9760/75765 (13%)]\tLoss: 14369.124023\n",
      "Train Epoch: 0 [9840/75765 (13%)]\tLoss: 12549.009766\n",
      "Train Epoch: 0 [9920/75765 (13%)]\tLoss: 12340.100586\n",
      "Train Epoch: 0 [10000/75765 (13%)]\tLoss: 24595.859375\n",
      "Train Epoch: 0 [10080/75765 (13%)]\tLoss: 13796.740234\n",
      "Train Epoch: 0 [10160/75765 (13%)]\tLoss: 14486.042969\n",
      "Train Epoch: 0 [10240/75765 (14%)]\tLoss: 18749.660156\n",
      "Train Epoch: 0 [10320/75765 (14%)]\tLoss: 15191.797852\n",
      "Train Epoch: 0 [10400/75765 (14%)]\tLoss: 14124.246094\n",
      "Train Epoch: 0 [10480/75765 (14%)]\tLoss: 21897.261719\n",
      "Train Epoch: 0 [10560/75765 (14%)]\tLoss: 648060.812500\n",
      "Train Epoch: 0 [10640/75765 (14%)]\tLoss: 19744.716797\n",
      "Train Epoch: 0 [10720/75765 (14%)]\tLoss: 31030.662109\n",
      "Train Epoch: 0 [10800/75765 (14%)]\tLoss: 18076.847656\n",
      "Train Epoch: 0 [10880/75765 (14%)]\tLoss: 13565.548828\n",
      "Train Epoch: 0 [10960/75765 (14%)]\tLoss: 35087.617188\n",
      "Train Epoch: 0 [11040/75765 (15%)]\tLoss: 42149736.000000\n",
      "Train Epoch: 0 [11120/75765 (15%)]\tLoss: 956622.500000\n",
      "Train Epoch: 0 [11200/75765 (15%)]\tLoss: 18461.201172\n",
      "Train Epoch: 0 [11280/75765 (15%)]\tLoss: 16329.615234\n",
      "Train Epoch: 0 [11360/75765 (15%)]\tLoss: 996804.000000\n",
      "Train Epoch: 0 [11440/75765 (15%)]\tLoss: 16068.454102\n",
      "Train Epoch: 0 [11520/75765 (15%)]\tLoss: 22666.476562\n",
      "Train Epoch: 0 [11600/75765 (15%)]\tLoss: 54540.257812\n",
      "Train Epoch: 0 [11680/75765 (15%)]\tLoss: 13086.105469\n",
      "Train Epoch: 0 [11760/75765 (16%)]\tLoss: 19039.839844\n",
      "Train Epoch: 0 [11840/75765 (16%)]\tLoss: 14305.163086\n",
      "Train Epoch: 0 [11920/75765 (16%)]\tLoss: 21253.839844\n",
      "Train Epoch: 0 [12000/75765 (16%)]\tLoss: 32766.722656\n",
      "Train Epoch: 0 [12080/75765 (16%)]\tLoss: 22618.021484\n",
      "Train Epoch: 0 [12160/75765 (16%)]\tLoss: 30548.435547\n",
      "Train Epoch: 0 [12240/75765 (16%)]\tLoss: 14522.138672\n",
      "Train Epoch: 0 [12320/75765 (16%)]\tLoss: 20185.345703\n"
     ]
    },
    {
     "name": "stdout",
     "output_type": "stream",
     "text": [
      "Train Epoch: 0 [12400/75765 (16%)]\tLoss: 17605.273438\n",
      "Train Epoch: 0 [12480/75765 (16%)]\tLoss: 14553.555664\n",
      "Train Epoch: 0 [12560/75765 (17%)]\tLoss: 16368.831055\n",
      "Train Epoch: 0 [12640/75765 (17%)]\tLoss: 14512.213867\n",
      "Train Epoch: 0 [12720/75765 (17%)]\tLoss: 13429.261719\n",
      "Train Epoch: 0 [12800/75765 (17%)]\tLoss: 11936.620117\n",
      "Train Epoch: 0 [12880/75765 (17%)]\tLoss: 23346970.000000\n",
      "Train Epoch: 0 [12960/75765 (17%)]\tLoss: 12532.402344\n",
      "Train Epoch: 0 [13040/75765 (17%)]\tLoss: 12788.124023\n",
      "Train Epoch: 0 [13120/75765 (17%)]\tLoss: 13782.538086\n",
      "Train Epoch: 0 [13200/75765 (17%)]\tLoss: 20003.078125\n",
      "Train Epoch: 0 [13280/75765 (18%)]\tLoss: 12535.503906\n",
      "Train Epoch: 0 [13360/75765 (18%)]\tLoss: 17104.703125\n",
      "Train Epoch: 0 [13440/75765 (18%)]\tLoss: 17865.441406\n",
      "Train Epoch: 0 [13520/75765 (18%)]\tLoss: 13455.467773\n",
      "Train Epoch: 0 [13600/75765 (18%)]\tLoss: 15043.656250\n",
      "Train Epoch: 0 [13680/75765 (18%)]\tLoss: 16994.941406\n",
      "Train Epoch: 0 [13760/75765 (18%)]\tLoss: 16972.029297\n",
      "Train Epoch: 0 [13840/75765 (18%)]\tLoss: 16333.589844\n",
      "Train Epoch: 0 [13920/75765 (18%)]\tLoss: 12874.428711\n",
      "Train Epoch: 0 [14000/75765 (18%)]\tLoss: 17027.117188\n",
      "Train Epoch: 0 [14080/75765 (19%)]\tLoss: 17740.433594\n",
      "Train Epoch: 0 [14160/75765 (19%)]\tLoss: 20588.101562\n",
      "Train Epoch: 0 [14240/75765 (19%)]\tLoss: 12243.648438\n",
      "Train Epoch: 0 [14320/75765 (19%)]\tLoss: 18449.796875\n",
      "Train Epoch: 0 [14400/75765 (19%)]\tLoss: 13289.154297\n",
      "Train Epoch: 0 [14480/75765 (19%)]\tLoss: 12193.100586\n",
      "Train Epoch: 0 [14560/75765 (19%)]\tLoss: 12639.488281\n",
      "Train Epoch: 0 [14640/75765 (19%)]\tLoss: 15917.500977\n",
      "Train Epoch: 0 [14720/75765 (19%)]\tLoss: 13007.611328\n",
      "Train Epoch: 0 [14800/75765 (20%)]\tLoss: 13235.736328\n",
      "Train Epoch: 0 [14880/75765 (20%)]\tLoss: 13387.177734\n",
      "Train Epoch: 0 [14960/75765 (20%)]\tLoss: 13127.041992\n",
      "Train Epoch: 0 [15040/75765 (20%)]\tLoss: 15853.033203\n",
      "Train Epoch: 0 [15120/75765 (20%)]\tLoss: 15109.485352\n",
      "Train Epoch: 0 [15200/75765 (20%)]\tLoss: 14373.836914\n",
      "Train Epoch: 0 [15280/75765 (20%)]\tLoss: 13003.048828\n",
      "Train Epoch: 0 [15360/75765 (20%)]\tLoss: 16286.137695\n",
      "Train Epoch: 0 [15440/75765 (20%)]\tLoss: 14048.408203\n",
      "Train Epoch: 0 [15520/75765 (20%)]\tLoss: 12835.724609\n",
      "Train Epoch: 0 [15600/75765 (21%)]\tLoss: 13053.540039\n",
      "Train Epoch: 0 [15680/75765 (21%)]\tLoss: 13049.999023\n",
      "Train Epoch: 0 [15760/75765 (21%)]\tLoss: 12471.177734\n",
      "Train Epoch: 0 [15840/75765 (21%)]\tLoss: 13424.487305\n",
      "Train Epoch: 0 [15920/75765 (21%)]\tLoss: 13805.745117\n",
      "Train Epoch: 0 [16000/75765 (21%)]\tLoss: 14380.789062\n",
      "Train Epoch: 0 [16080/75765 (21%)]\tLoss: 14298.564453\n",
      "Train Epoch: 0 [16160/75765 (21%)]\tLoss: 13889.763672\n",
      "Train Epoch: 0 [16240/75765 (21%)]\tLoss: 14000.550781\n",
      "Train Epoch: 0 [16320/75765 (22%)]\tLoss: 15625.367188\n",
      "Train Epoch: 0 [16400/75765 (22%)]\tLoss: 14001.012695\n",
      "Train Epoch: 0 [16480/75765 (22%)]\tLoss: 14755.279297\n",
      "Train Epoch: 0 [16560/75765 (22%)]\tLoss: 14707.852539\n",
      "Train Epoch: 0 [16640/75765 (22%)]\tLoss: 15209.045898\n",
      "Train Epoch: 0 [16720/75765 (22%)]\tLoss: 18325.453125\n",
      "Train Epoch: 0 [16800/75765 (22%)]\tLoss: 20186.716797\n",
      "Train Epoch: 0 [16880/75765 (22%)]\tLoss: 15236.988281\n",
      "Train Epoch: 0 [16960/75765 (22%)]\tLoss: 19519.380859\n",
      "Train Epoch: 0 [17040/75765 (22%)]\tLoss: 14659.386719\n",
      "Train Epoch: 0 [17120/75765 (23%)]\tLoss: 14822.449219\n",
      "Train Epoch: 0 [17200/75765 (23%)]\tLoss: 17320.865234\n",
      "Train Epoch: 0 [17280/75765 (23%)]\tLoss: 15266.053711\n",
      "Train Epoch: 0 [17360/75765 (23%)]\tLoss: 13812.229492\n",
      "Train Epoch: 0 [17440/75765 (23%)]\tLoss: 14887.972656\n",
      "Train Epoch: 0 [17520/75765 (23%)]\tLoss: 16601.306641\n",
      "Train Epoch: 0 [17600/75765 (23%)]\tLoss: 15870.717773\n",
      "Train Epoch: 0 [17680/75765 (23%)]\tLoss: 14194.732422\n",
      "Train Epoch: 0 [17760/75765 (23%)]\tLoss: 13841.354492\n",
      "Train Epoch: 0 [17840/75765 (24%)]\tLoss: 17306.810547\n",
      "Train Epoch: 0 [17920/75765 (24%)]\tLoss: 16450.320312\n",
      "Train Epoch: 0 [18000/75765 (24%)]\tLoss: 17159.474609\n",
      "Train Epoch: 0 [18080/75765 (24%)]\tLoss: 18638.718750\n",
      "Train Epoch: 0 [18160/75765 (24%)]\tLoss: 19686.427734\n",
      "Train Epoch: 0 [18240/75765 (24%)]\tLoss: 15010.640625\n",
      "Train Epoch: 0 [18320/75765 (24%)]\tLoss: 14578.699219\n",
      "Train Epoch: 0 [18400/75765 (24%)]\tLoss: 17070.931641\n",
      "Train Epoch: 0 [18480/75765 (24%)]\tLoss: 25118.669922\n",
      "Train Epoch: 0 [18560/75765 (24%)]\tLoss: 18446.546875\n",
      "Train Epoch: 0 [18640/75765 (25%)]\tLoss: 18701.986328\n",
      "Train Epoch: 0 [18720/75765 (25%)]\tLoss: 20717.437500\n",
      "Train Epoch: 0 [18800/75765 (25%)]\tLoss: 19583.369141\n",
      "Train Epoch: 0 [18880/75765 (25%)]\tLoss: 20642.335938\n",
      "Train Epoch: 0 [18960/75765 (25%)]\tLoss: 14926.255859\n",
      "Train Epoch: 0 [19040/75765 (25%)]\tLoss: 17901.634766\n",
      "Train Epoch: 0 [19120/75765 (25%)]\tLoss: 16764.576172\n",
      "Train Epoch: 0 [19200/75765 (25%)]\tLoss: 17017.453125\n",
      "Train Epoch: 0 [19280/75765 (25%)]\tLoss: 17644.261719\n",
      "Train Epoch: 0 [19360/75765 (26%)]\tLoss: 18807.447266\n",
      "Train Epoch: 0 [19440/75765 (26%)]\tLoss: 17959.458984\n",
      "Train Epoch: 0 [19520/75765 (26%)]\tLoss: 21909.400391\n",
      "Train Epoch: 0 [19600/75765 (26%)]\tLoss: 28120.316406\n",
      "Train Epoch: 0 [19680/75765 (26%)]\tLoss: 18081.722656\n",
      "Train Epoch: 0 [19760/75765 (26%)]\tLoss: 21411.830078\n",
      "Train Epoch: 0 [19840/75765 (26%)]\tLoss: 15763.353516\n"
     ]
    },
    {
     "ename": "KeyboardInterrupt",
     "evalue": "",
     "output_type": "error",
     "traceback": [
      "\u001b[0;31m---------------------------------------------------------------------------\u001b[0m",
      "\u001b[0;31mKeyboardInterrupt\u001b[0m                         Traceback (most recent call last)",
      "\u001b[0;32m<ipython-input-29-934cb288720f>\u001b[0m in \u001b[0;36m<module>\u001b[0;34m\u001b[0m\n\u001b[0;32m----> 1\u001b[0;31m \u001b[0mtrain_vae\u001b[0m\u001b[0;34m(\u001b[0m\u001b[0ms_vae\u001b[0m\u001b[0;34m,\u001b[0m\u001b[0ms_dataloader\u001b[0m\u001b[0;34m)\u001b[0m\u001b[0;34m\u001b[0m\u001b[0m\n\u001b[0m",
      "\u001b[0;32m<ipython-input-28-730f5a4f53ff>\u001b[0m in \u001b[0;36mtrain_vae\u001b[0;34m(vae, dataloader, max_epochs)\u001b[0m\n\u001b[1;32m     14\u001b[0m             \u001b[0mopt\u001b[0m\u001b[0;34m.\u001b[0m\u001b[0mstep\u001b[0m\u001b[0;34m(\u001b[0m\u001b[0;34m)\u001b[0m\u001b[0;34m\u001b[0m\u001b[0m\n\u001b[1;32m     15\u001b[0m \u001b[0;34m\u001b[0m\u001b[0m\n\u001b[0;32m---> 16\u001b[0;31m             \u001b[0mlosses\u001b[0m\u001b[0;34m.\u001b[0m\u001b[0mappend\u001b[0m\u001b[0;34m(\u001b[0m\u001b[0mloss\u001b[0m\u001b[0;34m.\u001b[0m\u001b[0mitem\u001b[0m\u001b[0;34m(\u001b[0m\u001b[0;34m)\u001b[0m \u001b[0;34m/\u001b[0m \u001b[0mlen\u001b[0m\u001b[0;34m(\u001b[0m\u001b[0mbatch_x\u001b[0m\u001b[0;34m)\u001b[0m\u001b[0;34m)\u001b[0m\u001b[0;34m\u001b[0m\u001b[0m\n\u001b[0m\u001b[1;32m     17\u001b[0m             \u001b[0;32mif\u001b[0m \u001b[0mbatch_idx\u001b[0m\u001b[0;34m%\u001b[0m\u001b[0;36m20\u001b[0m \u001b[0;34m==\u001b[0m \u001b[0;36m0\u001b[0m\u001b[0;34m:\u001b[0m\u001b[0;34m\u001b[0m\u001b[0m\n\u001b[1;32m     18\u001b[0m                \u001b[0;31m#print(loss.item() / len(batch_x))\u001b[0m\u001b[0;34m\u001b[0m\u001b[0;34m\u001b[0m\u001b[0m\n",
      "\u001b[0;31mKeyboardInterrupt\u001b[0m: "
     ]
    }
   ],
   "source": [
    "train_vae(s_vae,s_dataloader)"
   ]
  },
  {
   "cell_type": "code",
   "execution_count": 44,
   "metadata": {},
   "outputs": [
    {
     "name": "stdout",
     "output_type": "stream",
     "text": [
      "Train Epoch: 0 [0/85000 (0%)]\tLoss: 2889.136719\n",
      "Train Epoch: 0 [80/85000 (0%)]\tLoss: 93287587840.000000\n",
      "Train Epoch: 0 [160/85000 (0%)]\tLoss: 487840251904.000000\n",
      "Train Epoch: 0 [240/85000 (0%)]\tLoss: 7306614407168.000000\n",
      "Train Epoch: 0 [320/85000 (0%)]\tLoss: 26367750144.000000\n",
      "Train Epoch: 0 [400/85000 (0%)]\tLoss: 2440686592.000000\n",
      "Train Epoch: 0 [480/85000 (1%)]\tLoss: 10274635776.000000\n",
      "Train Epoch: 0 [560/85000 (1%)]\tLoss: 20899063808.000000\n",
      "Train Epoch: 0 [640/85000 (1%)]\tLoss: 438477520896.000000\n",
      "Train Epoch: 0 [720/85000 (1%)]\tLoss: 15911988.000000\n",
      "Train Epoch: 0 [800/85000 (1%)]\tLoss: 42145792000.000000\n",
      "Train Epoch: 0 [880/85000 (1%)]\tLoss: 71500333056.000000\n",
      "Train Epoch: 0 [960/85000 (1%)]\tLoss: 8086091202560.000000\n",
      "Train Epoch: 0 [1040/85000 (1%)]\tLoss: 46104461312.000000\n",
      "Train Epoch: 0 [1120/85000 (1%)]\tLoss: 1912377180160.000000\n",
      "Train Epoch: 0 [1200/85000 (1%)]\tLoss: 276471072.000000\n",
      "Train Epoch: 0 [1280/85000 (2%)]\tLoss: 1005329186816.000000\n",
      "Train Epoch: 0 [1360/85000 (2%)]\tLoss: 2295857408.000000\n",
      "Train Epoch: 0 [1440/85000 (2%)]\tLoss: 76896845824.000000\n",
      "Train Epoch: 0 [1520/85000 (2%)]\tLoss: 1621913344.000000\n",
      "Train Epoch: 0 [1600/85000 (2%)]\tLoss: 156922462208.000000\n",
      "Train Epoch: 0 [1680/85000 (2%)]\tLoss: 140926624.000000\n",
      "Train Epoch: 0 [1760/85000 (2%)]\tLoss: 2034629869568.000000\n",
      "Train Epoch: 0 [1840/85000 (2%)]\tLoss: 2959448064.000000\n",
      "Train Epoch: 0 [1920/85000 (2%)]\tLoss: 280871469056.000000\n",
      "Train Epoch: 0 [2000/85000 (2%)]\tLoss: 10769602560.000000\n",
      "Train Epoch: 0 [2080/85000 (2%)]\tLoss: 11938841600.000000\n",
      "Train Epoch: 0 [2160/85000 (3%)]\tLoss: 312763744256.000000\n",
      "Train Epoch: 0 [2240/85000 (3%)]\tLoss: 16185608192.000000\n",
      "Train Epoch: 0 [2320/85000 (3%)]\tLoss: 16402241536.000000\n",
      "Train Epoch: 0 [2400/85000 (3%)]\tLoss: 3887801.250000\n",
      "Train Epoch: 0 [2480/85000 (3%)]\tLoss: 2335752704.000000\n",
      "Train Epoch: 0 [2560/85000 (3%)]\tLoss: 1247690880.000000\n",
      "Train Epoch: 0 [2640/85000 (3%)]\tLoss: 1723788032.000000\n",
      "Train Epoch: 0 [2720/85000 (3%)]\tLoss: 427912352.000000\n",
      "Train Epoch: 0 [2800/85000 (3%)]\tLoss: 99925320.000000\n",
      "Train Epoch: 0 [2880/85000 (3%)]\tLoss: 23978170368.000000\n",
      "Train Epoch: 0 [2960/85000 (3%)]\tLoss: 16866040.000000\n",
      "Train Epoch: 0 [3040/85000 (4%)]\tLoss: 59352752128.000000\n",
      "Train Epoch: 0 [3120/85000 (4%)]\tLoss: 1107272448.000000\n",
      "Train Epoch: 0 [3200/85000 (4%)]\tLoss: 83398656000.000000\n",
      "Train Epoch: 0 [3280/85000 (4%)]\tLoss: 837224320.000000\n",
      "Train Epoch: 0 [3360/85000 (4%)]\tLoss: 116310368256.000000\n",
      "Train Epoch: 0 [3440/85000 (4%)]\tLoss: 2113348435968.000000\n",
      "Train Epoch: 0 [3520/85000 (4%)]\tLoss: 129052408.000000\n",
      "Train Epoch: 0 [3600/85000 (4%)]\tLoss: 53094723584.000000\n",
      "Train Epoch: 0 [3680/85000 (4%)]\tLoss: 219260911616.000000\n",
      "Train Epoch: 0 [3760/85000 (4%)]\tLoss: 20697692160.000000\n",
      "Train Epoch: 0 [3840/85000 (5%)]\tLoss: 1560678784.000000\n",
      "Train Epoch: 0 [3920/85000 (5%)]\tLoss: 120053751808.000000\n",
      "Train Epoch: 0 [4000/85000 (5%)]\tLoss: 60754968576.000000\n",
      "Train Epoch: 0 [4080/85000 (5%)]\tLoss: 93559218176.000000\n",
      "Train Epoch: 0 [4160/85000 (5%)]\tLoss: 2905784064.000000\n",
      "Train Epoch: 0 [4240/85000 (5%)]\tLoss: 35150556.000000\n",
      "Train Epoch: 0 [4320/85000 (5%)]\tLoss: 80118336.000000\n",
      "Train Epoch: 0 [4400/85000 (5%)]\tLoss: 47752360.000000\n",
      "Train Epoch: 0 [4480/85000 (5%)]\tLoss: 221417520.000000\n",
      "Train Epoch: 0 [4560/85000 (5%)]\tLoss: 23534188.000000\n",
      "Train Epoch: 0 [4640/85000 (5%)]\tLoss: 39376822272.000000\n",
      "Train Epoch: 0 [4720/85000 (6%)]\tLoss: 592458112.000000\n",
      "Train Epoch: 0 [4800/85000 (6%)]\tLoss: 188081274880.000000\n",
      "Train Epoch: 0 [4880/85000 (6%)]\tLoss: 2862977536.000000\n",
      "Train Epoch: 0 [4960/85000 (6%)]\tLoss: 924445376.000000\n",
      "Train Epoch: 0 [5040/85000 (6%)]\tLoss: 2308587.250000\n",
      "Train Epoch: 0 [5120/85000 (6%)]\tLoss: 17608327168.000000\n",
      "Train Epoch: 0 [5200/85000 (6%)]\tLoss: 13197644800.000000\n",
      "Train Epoch: 0 [5280/85000 (6%)]\tLoss: 213327680.000000\n",
      "Train Epoch: 0 [5360/85000 (6%)]\tLoss: 11090220023808.000000\n",
      "Train Epoch: 0 [5440/85000 (6%)]\tLoss: 941709440.000000\n",
      "Train Epoch: 0 [5520/85000 (6%)]\tLoss: 845324484608.000000\n",
      "Train Epoch: 0 [5600/85000 (7%)]\tLoss: 564765760.000000\n",
      "Train Epoch: 0 [5680/85000 (7%)]\tLoss: 40280592384.000000\n",
      "Train Epoch: 0 [5760/85000 (7%)]\tLoss: 106701928.000000\n",
      "Train Epoch: 0 [5840/85000 (7%)]\tLoss: 163747504.000000\n",
      "Train Epoch: 0 [5920/85000 (7%)]\tLoss: 90678206464.000000\n",
      "Train Epoch: 0 [6000/85000 (7%)]\tLoss: 145932894208.000000\n",
      "Train Epoch: 0 [6080/85000 (7%)]\tLoss: 128635928.000000\n",
      "Train Epoch: 0 [6160/85000 (7%)]\tLoss: 17909096448.000000\n",
      "Train Epoch: 0 [6240/85000 (7%)]\tLoss: 98150244352.000000\n",
      "Train Epoch: 0 [6320/85000 (7%)]\tLoss: 3857034496.000000\n",
      "Train Epoch: 0 [6400/85000 (8%)]\tLoss: 1548330624.000000\n",
      "Train Epoch: 0 [6480/85000 (8%)]\tLoss: 46411939840.000000\n",
      "Train Epoch: 0 [6560/85000 (8%)]\tLoss: 80578040.000000\n",
      "Train Epoch: 0 [6640/85000 (8%)]\tLoss: 18573701120.000000\n",
      "Train Epoch: 0 [6720/85000 (8%)]\tLoss: 18323304448.000000\n",
      "Train Epoch: 0 [6800/85000 (8%)]\tLoss: 9255403520.000000\n",
      "Train Epoch: 0 [6880/85000 (8%)]\tLoss: 1054432512.000000\n",
      "Train Epoch: 0 [6960/85000 (8%)]\tLoss: 3285659904.000000\n",
      "Train Epoch: 0 [7040/85000 (8%)]\tLoss: 40002211840.000000\n",
      "Train Epoch: 0 [7120/85000 (8%)]\tLoss: 68926062592.000000\n",
      "Train Epoch: 0 [7200/85000 (8%)]\tLoss: 135908704.000000\n",
      "Train Epoch: 0 [7280/85000 (9%)]\tLoss: 235206656.000000\n",
      "Train Epoch: 0 [7360/85000 (9%)]\tLoss: 1329028608.000000\n",
      "Train Epoch: 0 [7440/85000 (9%)]\tLoss: 290098176.000000\n",
      "Train Epoch: 0 [7520/85000 (9%)]\tLoss: 170855792.000000\n",
      "Train Epoch: 0 [7600/85000 (9%)]\tLoss: 2532523264.000000\n",
      "Train Epoch: 0 [7680/85000 (9%)]\tLoss: 337550311424.000000\n",
      "Train Epoch: 0 [7760/85000 (9%)]\tLoss: 372518464.000000\n",
      "Train Epoch: 0 [7840/85000 (9%)]\tLoss: 24959332352.000000\n",
      "Train Epoch: 0 [7920/85000 (9%)]\tLoss: 321676864.000000\n",
      "Train Epoch: 0 [8000/85000 (9%)]\tLoss: 2509905920.000000\n",
      "Train Epoch: 0 [8080/85000 (10%)]\tLoss: 2914737408.000000\n",
      "Train Epoch: 0 [8160/85000 (10%)]\tLoss: 2758992896.000000\n",
      "Train Epoch: 0 [8240/85000 (10%)]\tLoss: 5413258240.000000\n",
      "Train Epoch: 0 [8320/85000 (10%)]\tLoss: 2559970816.000000\n",
      "Train Epoch: 0 [8400/85000 (10%)]\tLoss: 19492636672.000000\n",
      "Train Epoch: 0 [8480/85000 (10%)]\tLoss: 22516176896.000000\n",
      "Train Epoch: 0 [8560/85000 (10%)]\tLoss: 123630016.000000\n",
      "Train Epoch: 0 [8640/85000 (10%)]\tLoss: 37608677376.000000\n",
      "Train Epoch: 0 [8720/85000 (10%)]\tLoss: 150763968.000000\n",
      "Train Epoch: 0 [8800/85000 (10%)]\tLoss: 1117623808.000000\n",
      "Train Epoch: 0 [8880/85000 (10%)]\tLoss: 203334811648.000000\n",
      "Train Epoch: 0 [8960/85000 (11%)]\tLoss: 1437529145344.000000\n",
      "Train Epoch: 0 [9040/85000 (11%)]\tLoss: 1122224256.000000\n",
      "Train Epoch: 0 [9120/85000 (11%)]\tLoss: 75235803136.000000\n",
      "Train Epoch: 0 [9200/85000 (11%)]\tLoss: 48510316544.000000\n",
      "Train Epoch: 0 [9280/85000 (11%)]\tLoss: 1366027141120.000000\n",
      "Train Epoch: 0 [9360/85000 (11%)]\tLoss: 205203701760.000000\n",
      "Train Epoch: 0 [9440/85000 (11%)]\tLoss: 2927095971840.000000\n",
      "Train Epoch: 0 [9520/85000 (11%)]\tLoss: 37735645184.000000\n",
      "Train Epoch: 0 [9600/85000 (11%)]\tLoss: 62083772.000000\n",
      "Train Epoch: 0 [9680/85000 (11%)]\tLoss: 2188153600.000000\n",
      "Train Epoch: 0 [9760/85000 (11%)]\tLoss: 1682849.250000\n",
      "Train Epoch: 0 [9840/85000 (12%)]\tLoss: 242774.656250\n",
      "Train Epoch: 0 [9920/85000 (12%)]\tLoss: 1791590144.000000\n",
      "Train Epoch: 0 [10000/85000 (12%)]\tLoss: 127379529728.000000\n",
      "Train Epoch: 0 [10080/85000 (12%)]\tLoss: 127594224.000000\n",
      "Train Epoch: 0 [10160/85000 (12%)]\tLoss: 4848456704.000000\n",
      "Train Epoch: 0 [10240/85000 (12%)]\tLoss: 16078541.000000\n",
      "Train Epoch: 0 [10320/85000 (12%)]\tLoss: 4130104.000000\n",
      "Train Epoch: 0 [10400/85000 (12%)]\tLoss: 219098288.000000\n",
      "Train Epoch: 0 [10480/85000 (12%)]\tLoss: 450884640.000000\n",
      "Train Epoch: 0 [10560/85000 (12%)]\tLoss: 467117984.000000\n",
      "Train Epoch: 0 [10640/85000 (13%)]\tLoss: 66623944.000000\n",
      "Train Epoch: 0 [10720/85000 (13%)]\tLoss: 4924154368.000000\n",
      "Train Epoch: 0 [10800/85000 (13%)]\tLoss: 5818600.000000\n",
      "Train Epoch: 0 [10880/85000 (13%)]\tLoss: 1426039936.000000\n",
      "Train Epoch: 0 [10960/85000 (13%)]\tLoss: 83932664.000000\n",
      "Train Epoch: 0 [11040/85000 (13%)]\tLoss: 1223682432.000000\n",
      "Train Epoch: 0 [11120/85000 (13%)]\tLoss: 17561464.000000\n",
      "Train Epoch: 0 [11200/85000 (13%)]\tLoss: 153991232.000000\n",
      "Train Epoch: 0 [11280/85000 (13%)]\tLoss: 493144736.000000\n",
      "Train Epoch: 0 [11360/85000 (13%)]\tLoss: 89640872.000000\n"
     ]
    },
    {
     "name": "stdout",
     "output_type": "stream",
     "text": [
      "Train Epoch: 0 [11440/85000 (13%)]\tLoss: 38664840.000000\n",
      "Train Epoch: 0 [11520/85000 (14%)]\tLoss: 1131917824.000000\n",
      "Train Epoch: 0 [11600/85000 (14%)]\tLoss: 10202088448.000000\n",
      "Train Epoch: 0 [11680/85000 (14%)]\tLoss: 1431323.125000\n",
      "Train Epoch: 0 [11760/85000 (14%)]\tLoss: 61238884.000000\n",
      "Train Epoch: 0 [11840/85000 (14%)]\tLoss: 1270567552.000000\n",
      "Train Epoch: 0 [11920/85000 (14%)]\tLoss: 502279.093750\n",
      "Train Epoch: 0 [12000/85000 (14%)]\tLoss: 1749078400.000000\n",
      "Train Epoch: 0 [12080/85000 (14%)]\tLoss: 1640268.375000\n",
      "Train Epoch: 0 [12160/85000 (14%)]\tLoss: 9797817344.000000\n",
      "Train Epoch: 0 [12240/85000 (14%)]\tLoss: 195200958464.000000\n",
      "Train Epoch: 0 [12320/85000 (14%)]\tLoss: 16860026.000000\n",
      "Train Epoch: 0 [12400/85000 (15%)]\tLoss: 168571664.000000\n",
      "Train Epoch: 0 [12480/85000 (15%)]\tLoss: 18645204992.000000\n",
      "Train Epoch: 0 [12560/85000 (15%)]\tLoss: 79025272.000000\n",
      "Train Epoch: 0 [12640/85000 (15%)]\tLoss: 8857120768.000000\n",
      "Train Epoch: 0 [12720/85000 (15%)]\tLoss: 319123520.000000\n",
      "Train Epoch: 0 [12800/85000 (15%)]\tLoss: 635578688.000000\n",
      "Train Epoch: 0 [12880/85000 (15%)]\tLoss: 534959040.000000\n",
      "Train Epoch: 0 [12960/85000 (15%)]\tLoss: 27986.029297\n",
      "Train Epoch: 0 [13040/85000 (15%)]\tLoss: 217711648.000000\n",
      "Train Epoch: 0 [13120/85000 (15%)]\tLoss: 9699480.000000\n",
      "Train Epoch: 0 [13200/85000 (16%)]\tLoss: 235325760.000000\n",
      "Train Epoch: 0 [13280/85000 (16%)]\tLoss: 5031238.500000\n",
      "Train Epoch: 0 [13360/85000 (16%)]\tLoss: 7979646.500000\n",
      "Train Epoch: 0 [13440/85000 (16%)]\tLoss: 150800880.000000\n",
      "Train Epoch: 0 [13520/85000 (16%)]\tLoss: 15698281472.000000\n",
      "Train Epoch: 0 [13600/85000 (16%)]\tLoss: 27291648.000000\n",
      "Train Epoch: 0 [13680/85000 (16%)]\tLoss: 350935.187500\n",
      "Train Epoch: 0 [13760/85000 (16%)]\tLoss: 4949666816.000000\n",
      "Train Epoch: 0 [13840/85000 (16%)]\tLoss: 7719660544.000000\n",
      "Train Epoch: 0 [13920/85000 (16%)]\tLoss: 4173931.750000\n",
      "Train Epoch: 0 [14000/85000 (16%)]\tLoss: 82952896.000000\n",
      "Train Epoch: 0 [14080/85000 (17%)]\tLoss: 319334432.000000\n",
      "Train Epoch: 0 [14160/85000 (17%)]\tLoss: 458422517760.000000\n",
      "Train Epoch: 0 [14240/85000 (17%)]\tLoss: 9831162.000000\n",
      "Train Epoch: 0 [14320/85000 (17%)]\tLoss: 1212870.625000\n",
      "Train Epoch: 0 [14400/85000 (17%)]\tLoss: 6048694.000000\n",
      "Train Epoch: 0 [14480/85000 (17%)]\tLoss: 160341114880.000000\n",
      "Train Epoch: 0 [14560/85000 (17%)]\tLoss: 46403652.000000\n",
      "Train Epoch: 0 [14640/85000 (17%)]\tLoss: 2003497472.000000\n",
      "Train Epoch: 0 [14720/85000 (17%)]\tLoss: 8289807.500000\n"
     ]
    },
    {
     "ename": "KeyboardInterrupt",
     "evalue": "",
     "output_type": "error",
     "traceback": [
      "\u001b[0;31m---------------------------------------------------------------------------\u001b[0m",
      "\u001b[0;31mKeyboardInterrupt\u001b[0m                         Traceback (most recent call last)",
      "\u001b[0;32m<ipython-input-44-2749602642b6>\u001b[0m in \u001b[0;36m<module>\u001b[0;34m\u001b[0m\n\u001b[0;32m----> 1\u001b[0;31m \u001b[0mtrain_vae\u001b[0m\u001b[0;34m(\u001b[0m\u001b[0mt_vae\u001b[0m\u001b[0;34m,\u001b[0m\u001b[0mt_dataloader\u001b[0m\u001b[0;34m)\u001b[0m\u001b[0;34m\u001b[0m\u001b[0m\n\u001b[0m",
      "\u001b[0;32m<ipython-input-28-730f5a4f53ff>\u001b[0m in \u001b[0;36mtrain_vae\u001b[0;34m(vae, dataloader, max_epochs)\u001b[0m\n\u001b[1;32m     14\u001b[0m             \u001b[0mopt\u001b[0m\u001b[0;34m.\u001b[0m\u001b[0mstep\u001b[0m\u001b[0;34m(\u001b[0m\u001b[0;34m)\u001b[0m\u001b[0;34m\u001b[0m\u001b[0m\n\u001b[1;32m     15\u001b[0m \u001b[0;34m\u001b[0m\u001b[0m\n\u001b[0;32m---> 16\u001b[0;31m             \u001b[0mlosses\u001b[0m\u001b[0;34m.\u001b[0m\u001b[0mappend\u001b[0m\u001b[0;34m(\u001b[0m\u001b[0mloss\u001b[0m\u001b[0;34m.\u001b[0m\u001b[0mitem\u001b[0m\u001b[0;34m(\u001b[0m\u001b[0;34m)\u001b[0m \u001b[0;34m/\u001b[0m \u001b[0mlen\u001b[0m\u001b[0;34m(\u001b[0m\u001b[0mbatch_x\u001b[0m\u001b[0;34m)\u001b[0m\u001b[0;34m)\u001b[0m\u001b[0;34m\u001b[0m\u001b[0m\n\u001b[0m\u001b[1;32m     17\u001b[0m             \u001b[0;32mif\u001b[0m \u001b[0mbatch_idx\u001b[0m\u001b[0;34m%\u001b[0m\u001b[0;36m20\u001b[0m \u001b[0;34m==\u001b[0m \u001b[0;36m0\u001b[0m\u001b[0;34m:\u001b[0m\u001b[0;34m\u001b[0m\u001b[0m\n\u001b[1;32m     18\u001b[0m                \u001b[0;31m#print(loss.item() / len(batch_x))\u001b[0m\u001b[0;34m\u001b[0m\u001b[0;34m\u001b[0m\u001b[0m\n",
      "\u001b[0;31mKeyboardInterrupt\u001b[0m: "
     ]
    }
   ],
   "source": [
    "train_vae(t_vae,t_dataloader)"
   ]
  },
  {
   "cell_type": "code",
   "execution_count": 104,
   "metadata": {},
   "outputs": [
    {
     "name": "stdout",
     "output_type": "stream",
     "text": [
      "\r\n",
      "*** Please tell me who you are.\r\n",
      "\r\n",
      "Run\r\n",
      "\r\n",
      "  git config --global user.email \"you@example.com\"\r\n",
      "  git config --global user.name \"Your Name\"\r\n",
      "\r\n",
      "to set your account's default identity.\r\n",
      "Omit --global to set the identity only in this repository.\r\n",
      "\r\n",
      "fatal: unable to auto-detect email address (got 'root@189cd8def068.(none)')\r\n"
     ]
    }
   ],
   "source": [
    "!git commit -a -m 'pps'\n"
   ]
  },
  {
   "cell_type": "code",
   "execution_count": null,
   "metadata": {},
   "outputs": [],
   "source": []
  },
  {
   "cell_type": "code",
   "execution_count": null,
   "metadata": {},
   "outputs": [],
   "source": []
  },
  {
   "cell_type": "code",
   "execution_count": null,
   "metadata": {},
   "outputs": [],
   "source": []
  },
  {
   "cell_type": "code",
   "execution_count": 58,
   "metadata": {},
   "outputs": [
    {
     "data": {
      "text/plain": [
       "torch.Size([1, 1, 28, 28])"
      ]
     },
     "execution_count": 58,
     "metadata": {},
     "output_type": "execute_result"
    }
   ],
   "source": [
    "vae.dec(torch.randn(1, 10)).shape"
   ]
  },
  {
   "cell_type": "code",
   "execution_count": 226,
   "metadata": {
    "scrolled": true
   },
   "outputs": [
    {
     "data": {
      "text/plain": [
       "(tensor([[  7.9019,   7.1082,   3.9043, -14.8400,  -0.8252,  -1.7435,   3.8550,\n",
       "          -11.0614,  16.0926,  -2.0630]], grad_fn=<ThAddmmBackward>),\n",
       " tensor([[ -33.9994,  -48.2255, -134.0320, -394.1775, -170.5674, -283.9693,\n",
       "          -308.1090, -147.7783,  -81.0785,  -21.4300]],\n",
       "        grad_fn=<ThAddmmBackward>))"
      ]
     },
     "execution_count": 226,
     "metadata": {},
     "output_type": "execute_result"
    }
   ],
   "source": [
    "vae.enc(batch_x)"
   ]
  },
  {
   "cell_type": "code",
   "execution_count": 71,
   "metadata": {
    "scrolled": true
   },
   "outputs": [
    {
     "data": {
      "text/plain": [
       "0.003921569"
      ]
     },
     "execution_count": 71,
     "metadata": {},
     "output_type": "execute_result"
    }
   ],
   "source": [
    "trump_dataset[0].max()"
   ]
  },
  {
   "cell_type": "code",
   "execution_count": null,
   "metadata": {},
   "outputs": [],
   "source": []
  },
  {
   "cell_type": "code",
   "execution_count": 100,
   "metadata": {},
   "outputs": [
    {
     "data": {
      "text/plain": [
       "tensor([[  1.1237, -13.4278,  11.4791,  -4.4557,  -8.2570,   1.3718,   1.7027,\n",
       "          -0.1134,  -9.7105,   1.0357,   0.7658,  -0.2059,   5.3838,  -5.7344,\n",
       "          -5.9475,  12.0044,   5.9641,  -9.3059,  -4.7703, -11.6066,   4.2497,\n",
       "          -2.6147,   2.2517,   1.2008,   3.4454,  -3.5196,   9.8057, -22.5040,\n",
       "          -1.7938,  -3.3910,  -5.7538,   2.0773,   4.1213,  -3.7328,   1.9381,\n",
       "          -6.0099,  -3.8975,  -0.2791,   2.1858,  -4.9915,   1.8653,  -3.1885,\n",
       "          -4.0782,   2.9159,  -5.5561,  -2.7083,  -2.2798,  -1.5022,   1.5509,\n",
       "           0.6399, -14.7332,   0.6398,   3.5984,  -3.6653,  -4.3407,   5.0472,\n",
       "           7.7239,  11.4232,  -1.9824,  -4.7321,  -0.5397,   7.1647,   1.8678,\n",
       "           0.5600,  -0.3886,  -3.4058,  -2.1674, -11.2370,  -0.7521,   4.1365,\n",
       "           3.9576,  -1.8182,  -7.3783,  -5.7261,  -6.3256,   3.7627,  -5.8975,\n",
       "           9.8337,   7.0384,   7.8664,   4.2649,   9.1530,   1.0451,   5.8512,\n",
       "           3.4694,  -2.7144,  -7.7598,   3.7801,  -1.8744,   2.8929,   2.0396,\n",
       "          -5.5032,  -5.1806,   3.0809, -11.0630,  -0.5430,  -2.1413,   1.6889,\n",
       "           0.8797,  -0.8299]], device='cuda:0', grad_fn=<AddmmBackward>)"
      ]
     },
     "execution_count": 100,
     "metadata": {},
     "output_type": "execute_result"
    }
   ],
   "source": [
    "mu"
   ]
  },
  {
   "cell_type": "code",
   "execution_count": 101,
   "metadata": {},
   "outputs": [
    {
     "data": {
      "text/plain": [
       "(tensor([[-19.9088,   6.4232,  10.0308,   6.1199,   2.5408,   3.5764, -20.5922,\n",
       "          -11.3955,   8.2345,   0.3273,  17.5398,   4.4808,   6.3360,   5.1976,\n",
       "           -1.2771,   8.4091, -10.5012,  -1.3642,  -0.7087,  -3.4474,  -2.0477,\n",
       "           -4.9588,   7.8920,  -2.4507,   1.9696,  -0.0781,   6.3391, -11.5957,\n",
       "           -6.6656, -16.3836,   1.6265, -33.5125,  -2.6205, -22.1571,  11.4573,\n",
       "            4.9692,  -5.9839, -20.6818,   8.2578,  -4.1873,   4.6844,  -6.4568,\n",
       "           -8.3328,   6.1798,  -6.9231,  -4.3173,  -9.3087,   2.2738,  -0.8198,\n",
       "            2.0063,  -2.0961,  12.4322,  -7.7404, -15.5030,  -8.4570,  -2.8307,\n",
       "           15.6235,  -3.3649,  -9.0869, -15.6715,   2.5558, -16.6902,   6.7784,\n",
       "           -8.2758,   5.9130,  -5.2669,   6.5693,   4.8926,  -0.0639,  16.1226,\n",
       "            0.8691,   6.7980,  -6.8998, -13.7185,   4.3461, -28.9602,  -5.4943,\n",
       "           10.6184,   9.0272, -10.1269,  19.1843,  -8.3204,  -3.6930,   2.3917,\n",
       "           15.7857, -10.4562,   3.3921,   5.0627,   9.9786,  12.7992,  25.7781,\n",
       "           -4.4299,   2.2830,   7.5825,  -9.5397,  -3.5503,   6.7179,  11.1750,\n",
       "            1.7656,   2.3048]], device='cuda:0', grad_fn=<AddmmBackward>),\n",
       " tensor([[-2.9123e+01, -5.9898e+01, -3.3635e+01, -2.6772e+02, -5.9411e+01,\n",
       "          -3.1422e+01, -1.8574e+02, -5.3163e+01, -7.4720e+01,  2.3882e-01,\n",
       "          -5.3287e+01, -5.5966e+01, -3.1375e+02, -4.3053e+01, -7.6506e+02,\n",
       "          -3.2321e+01, -3.0273e+01, -1.8052e+01, -3.7596e+01, -8.7337e+02,\n",
       "          -5.9487e+01, -1.0148e+02, -6.6073e+01, -6.7171e+02, -6.8277e+01,\n",
       "          -5.6554e+01, -6.7981e+01, -4.3097e+01, -2.7419e+01, -4.9003e+01,\n",
       "          -4.1928e+01, -6.6513e+01, -2.9549e+02, -1.0371e+02, -4.9721e+02,\n",
       "          -1.0421e+02, -9.8628e+02, -4.6336e+01, -8.3493e+01, -6.8765e+01,\n",
       "          -2.7626e+01, -4.6099e+02, -5.0841e+02, -5.2186e+01, -3.2625e+02,\n",
       "          -9.3363e+02, -7.0423e+01, -1.8708e+02, -5.3250e+01, -7.2776e+02,\n",
       "          -5.3559e+01, -8.7524e+02, -6.8608e+02, -2.2153e+01, -4.6284e+02,\n",
       "          -7.0796e+01, -5.2821e+01, -2.5006e+02, -6.8472e+02, -1.0474e+02,\n",
       "          -1.2438e+02, -4.4902e+01, -4.8246e+02, -1.0229e+02, -3.1609e+01,\n",
       "          -8.1388e+02, -2.9173e+02, -8.5293e+01, -7.2654e+02, -6.3289e+01,\n",
       "          -1.0393e+02, -2.1510e+01, -5.9749e+01, -4.2320e+01, -6.3465e+01,\n",
       "          -9.0187e+01, -6.2391e+01, -2.8624e+01, -7.7954e+01, -7.2834e+02,\n",
       "          -3.3485e+01, -1.1736e+02, -6.2671e+01, -5.7283e+01, -7.7128e+01,\n",
       "          -1.0314e+02, -1.1805e+03, -1.0411e+02, -1.7674e+02, -2.6395e+01,\n",
       "          -6.0937e+01, -6.3633e+01, -7.2193e+00, -6.3740e+01, -5.8947e+02,\n",
       "          -5.7406e+01, -6.9173e+01, -4.0384e+01, -1.9119e+02, -1.0000e+03]],\n",
       "        device='cuda:0', grad_fn=<AddmmBackward>))"
      ]
     },
     "execution_count": 101,
     "metadata": {},
     "output_type": "execute_result"
    }
   ],
   "source": [
    "s_vae.enc(torch.from_numpy(snowden_dataset.__getitem__(idx).reshape(1,1,64,64)).cuda())"
   ]
  },
  {
   "cell_type": "code",
   "execution_count": 99,
   "metadata": {},
   "outputs": [
    {
     "data": {
      "image/png": "[encoded data removed]",
      "text/plain": [
       "<Figure size 432x288 with 1 Axes>"
      ]
     },
     "metadata": {
      "needs_background": "light"
     },
     "output_type": "display_data"
    },
    {
     "data": {
      "text/plain": [
       "<matplotlib.image.AxesImage at 0x7fb2cee43ef0>"
      ]
     },
     "execution_count": 99,
     "metadata": {},
     "output_type": "execute_result"
    },
    {
     "data": {
      "image/png": "[encoded data removed]",
      "text/plain": [
       "<Figure size 432x288 with 1 Axes>"
      ]
     },
     "metadata": {
      "needs_background": "light"
     },
     "output_type": "display_data"
    }
   ],
   "source": [
    "idx = 0\n",
    "mu, logvar = t_vae.enc(torch.from_numpy(trump_dataset.__getitem__(idx).reshape(1,1,64,64)).cuda())\n",
    "plt.imshow(trump_dataset.__getitem__(idx)[0])\n",
    "plt.show()\n",
    "plt.imshow(s_vae.dec((mu+logvar).cuda())[0][0].cpu().detach())"
   ]
  },
  {
   "cell_type": "code",
   "execution_count": 80,
   "metadata": {},
   "outputs": [],
   "source": [
    "mu, logvar = t_vae.enc(torch.from_numpy(trump_dataset.__getitem__(0).reshape(1,1,64,64)).cuda())"
   ]
  },
  {
   "cell_type": "code",
   "execution_count": 86,
   "metadata": {},
   "outputs": [
    {
     "data": {
      "text/plain": [
       "<matplotlib.image.AxesImage at 0x7fb133aceba8>"
      ]
     },
     "execution_count": 86,
     "metadata": {},
     "output_type": "execute_result"
    },
    {
     "data": {
      "image/png": "[encoded data removed]",
      "text/plain": [
       "<Figure size 432x288 with 1 Axes>"
      ]
     },
     "metadata": {
      "needs_background": "light"
     },
     "output_type": "display_data"
    }
   ],
   "source": [
    "plt.imshow(s_vae.dec(mu.cuda())[0][0].cpu().detach())"
   ]
  },
  {
   "cell_type": "code",
   "execution_count": null,
   "metadata": {},
   "outputs": [],
   "source": []
  },
  {
   "cell_type": "code",
   "execution_count": 49,
   "metadata": {},
   "outputs": [
    {
     "data": {
      "text/plain": [
       "<matplotlib.image.AxesImage at 0x7fb133cbc8d0>"
      ]
     },
     "execution_count": 49,
     "metadata": {},
     "output_type": "execute_result"
    },
    {
     "data": {
      "image/png": "[encoded data removed]",
      "text/plain": [
       "<Figure size 432x288 with 1 Axes>"
      ]
     },
     "metadata": {
      "needs_background": "light"
     },
     "output_type": "display_data"
    }
   ],
   "source": [
    "v = np.zeros((1,100))\n",
    "v[0] += 0\n",
    "v = torch.from_numpy(v).view(1,100).float().cuda()\n",
    "plt.imshow(t_vae.dec(v)[0][0].cpu().detach())"
   ]
  },
  {
   "cell_type": "code",
   "execution_count": 50,
   "metadata": {},
   "outputs": [
    {
     "data": {
      "text/plain": [
       "<matplotlib.image.AxesImage at 0x7fb133c19f60>"
      ]
     },
     "execution_count": 50,
     "metadata": {},
     "output_type": "execute_result"
    },
    {
     "data": {
      "image/png": "[encoded data removed]",
      "text/plain": [
       "<Figure size 432x288 with 1 Axes>"
      ]
     },
     "metadata": {
      "needs_background": "light"
     },
     "output_type": "display_data"
    }
   ],
   "source": [
    "v = np.ones((1,100))\n",
    "v[:,5] +=  10\n",
    "v = torch.from_numpy(v).view(1,100).float().cuda()\n",
    "plt.imshow(t_vae.dec(v)[0][0].cpu().detach())"
   ]
  },
  {
   "cell_type": "code",
   "execution_count": null,
   "metadata": {},
   "outputs": [],
   "source": []
  },
  {
   "cell_type": "code",
   "execution_count": 4,
   "metadata": {},
   "outputs": [],
   "source": [
    "## read h5\n",
    "\n",
    "import h5py\n",
    "filename = './data/faces/donald.h5'\n"
   ]
  },
  {
   "cell_type": "code",
   "execution_count": null,
   "metadata": {},
   "outputs": [],
   "source": []
  },
  {
   "cell_type": "code",
   "execution_count": 5,
   "metadata": {},
   "outputs": [],
   "source": [
    "def read_h5(file):\n",
    "    f = h5py.File(file, 'r')\n",
    "    print(\"Keys: %s\" % f.keys())\n",
    "    \n",
    "    a_group_key = list(f.keys())[0]\n",
    "    data = list(f[a_group_key])\n",
    "    f.close()\n",
    "    \n",
    "    \n",
    "    return np.stack(data)[:,:,:,0].reshape(-1,1,64,64)"
   ]
  },
  {
   "cell_type": "code",
   "execution_count": 6,
   "metadata": {},
   "outputs": [
    {
     "name": "stdout",
     "output_type": "stream",
     "text": [
      "Keys: KeysView(<HDF5 file \"donald.h5\" (mode r)>)\n",
      "Keys: KeysView(<HDF5 file \"snowden.h5\" (mode r)>)\n"
     ]
    }
   ],
   "source": [
    "data_trump = read_h5('./data/faces/donald.h5')\n",
    "data_snowden = read_h5(\"./data/faces/snowden.h5\")"
   ]
  },
  {
   "cell_type": "code",
   "execution_count": 9,
   "metadata": {},
   "outputs": [
    {
     "data": {
      "text/plain": [
       "(85000, 1, 64, 64)"
      ]
     },
     "execution_count": 9,
     "metadata": {},
     "output_type": "execute_result"
    }
   ],
   "source": [
    "data_trump.shape"
   ]
  },
  {
   "cell_type": "code",
   "execution_count": 7,
   "metadata": {},
   "outputs": [
    {
     "data": {
      "text/plain": [
       "(75765, 1, 64, 64)"
      ]
     },
     "execution_count": 7,
     "metadata": {},
     "output_type": "execute_result"
    }
   ],
   "source": [
    "data_snowden.shape"
   ]
  }
 ],
 "metadata": {
  "kernelspec": {
   "display_name": "Python 3",
   "language": "python",
   "name": "python3"
  },
  "language_info": {
   "codemirror_mode": {
    "name": "ipython",
    "version": 3
   },
   "file_extension": ".py",
   "mimetype": "text/x-python",
   "name": "python",
   "nbconvert_exporter": "python",
   "pygments_lexer": "ipython3",
   "version": "3.6.6"
  }
 },
 "nbformat": 4,
 "nbformat_minor": 2
}
